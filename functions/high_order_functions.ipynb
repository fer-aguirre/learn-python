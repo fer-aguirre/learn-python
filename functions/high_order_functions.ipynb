{
 "cells": [
  {
   "cell_type": "markdown",
   "metadata": {},
   "source": [
    "### High order functions: filter, map and reduce\n",
    "A function that receives another function as parameter"
   ]
  },
  {
   "cell_type": "markdown",
   "metadata": {},
   "source": [
    "`filter()` method filters the given sequence with the help of a function that tests each element in the sequence to be true or not"
   ]
  },
  {
   "cell_type": "code",
   "execution_count": 2,
   "metadata": {},
   "outputs": [
    {
     "name": "stdout",
     "output_type": "stream",
     "text": [
      "[1, 5, 9, 13, 19, 21]\n",
      "[1, 5, 9, 13, 19, 21]\n"
     ]
    }
   ],
   "source": [
    "nums = [1, 4, 5, 6, 9, 13, 19, 21]\n",
    "\n",
    "# List comprehension\n",
    "odd = [i for i in nums if i % 2 != 0]\n",
    "print(odd)\n",
    "\n",
    "# Filter\n",
    "odd = list(filter(lambda x: x % 2 != 0, nums))\n",
    "print(odd)"
   ]
  },
  {
   "cell_type": "markdown",
   "metadata": {},
   "source": [
    "`map()` method returns an iterator of the results after applying the given function to each item of a given iterable (list, tuple etc.)"
   ]
  },
  {
   "cell_type": "code",
   "execution_count": 7,
   "metadata": {},
   "outputs": [
    {
     "name": "stdout",
     "output_type": "stream",
     "text": [
      "[1, 4, 9, 16, 25]\n",
      "[1, 4, 9, 16, 25]\n"
     ]
    }
   ],
   "source": [
    "nums = [1, 2, 3, 4, 5]\n",
    "\n",
    "# List comprehension\n",
    "square = [i**2 for i in nums]\n",
    "print(square)\n",
    "\n",
    "# Map\n",
    "square = list(map(lambda x: x**2, nums))\n",
    "print(square)"
   ]
  },
  {
   "cell_type": "markdown",
   "metadata": {},
   "source": [
    "`reduce()` method is used to apply a particular function passed in its argument to all of the list elements mentioned in the sequence passed along"
   ]
  },
  {
   "cell_type": "code",
   "execution_count": 17,
   "metadata": {},
   "outputs": [
    {
     "name": "stdout",
     "output_type": "stream",
     "text": [
      "32\n",
      "32\n"
     ]
    }
   ],
   "source": [
    "from functools import reduce\n",
    "\n",
    "nums = [2, 2, 2, 2, 2]\n",
    "\n",
    "# For loop\n",
    "x = 1\n",
    "for i in nums:\n",
    "    x = x * i\n",
    "print(x)\n",
    "\n",
    "# Reduce\n",
    "reduce = reduce(lambda a, b: a*b, nums )\n",
    "print(reduce)"
   ]
  }
 ],
 "metadata": {
  "kernelspec": {
   "display_name": "Python 3",
   "language": "python",
   "name": "python3"
  },
  "language_info": {
   "codemirror_mode": {
    "name": "ipython",
    "version": 3
   },
   "file_extension": ".py",
   "mimetype": "text/x-python",
   "name": "python",
   "nbconvert_exporter": "python",
   "pygments_lexer": "ipython3",
   "version": "3.8.10"
  }
 },
 "nbformat": 4,
 "nbformat_minor": 4
}
