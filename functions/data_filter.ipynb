{
 "cells": [
  {
   "cell_type": "markdown",
   "metadata": {},
   "source": [
    "# Import data module"
   ]
  },
  {
   "cell_type": "code",
   "execution_count": 2,
   "metadata": {},
   "outputs": [],
   "source": [
    "import sys; sys.path.append('../data')\n",
    "from data import *"
   ]
  },
  {
   "cell_type": "markdown",
   "metadata": {},
   "source": [
    "# Filter data with list comprehensions"
   ]
  },
  {
   "cell_type": "code",
   "execution_count": 8,
   "metadata": {},
   "outputs": [
    {
     "data": {
      "text/plain": [
       "['Facundo', 'Karo', 'Pablo', 'Lorena']"
      ]
     },
     "execution_count": 8,
     "metadata": {},
     "output_type": "execute_result"
    }
   ],
   "source": [
    "# List comprehensions\n",
    "python_devs = [worker[\"name\"] for worker in DATA if worker[\"language\"] == \"python\"]\n",
    "python_devs"
   ]
  },
  {
   "cell_type": "code",
   "execution_count": 10,
   "metadata": {},
   "outputs": [
    {
     "data": {
      "text/plain": [
       "['Facundo', 'Héctor', 'Gabriel', 'Isabella']"
      ]
     },
     "execution_count": 10,
     "metadata": {},
     "output_type": "execute_result"
    }
   ],
   "source": [
    "# List comprehensions\n",
    "platzi_workers = [worker[\"name\"] for worker in DATA if worker[\"organization\"] == \"Platzi\"]\n",
    "platzi_workers"
   ]
  },
  {
   "cell_type": "code",
   "execution_count": 14,
   "metadata": {},
   "outputs": [
    {
     "data": {
      "text/plain": [
       "['Facundo',\n",
       " 'Luisana',\n",
       " 'Héctor',\n",
       " 'Gabriel',\n",
       " 'Isabella',\n",
       " 'Karo',\n",
       " 'Ariel',\n",
       " 'Pablo',\n",
       " 'Lorena']"
      ]
     },
     "execution_count": 14,
     "metadata": {},
     "output_type": "execute_result"
    }
   ],
   "source": [
    "# List comprehensions\n",
    "adults = [worker[\"name\"] for worker in DATA if worker[\"age\"] > 18]\n",
    "adults"
   ]
  },
  {
   "cell_type": "markdown",
   "metadata": {},
   "source": [
    "# Filter data with high order functions"
   ]
  },
  {
   "cell_type": "code",
   "execution_count": 7,
   "metadata": {},
   "outputs": [
    {
     "data": {
      "text/plain": [
       "['Facundo', 'Karo', 'Pablo', 'Lorena']"
      ]
     },
     "execution_count": 7,
     "metadata": {},
     "output_type": "execute_result"
    }
   ],
   "source": [
    "# High-order functions\n",
    "python_devs2 = list(filter(lambda worker: worker[\"language\"] == \"python\", DATA))\n",
    "python_devs2 = list(map(lambda worker: worker[\"name\"], python_devs2))\n",
    "python_devs2"
   ]
  },
  {
   "cell_type": "code",
   "execution_count": 9,
   "metadata": {},
   "outputs": [
    {
     "data": {
      "text/plain": [
       "['Facundo', 'Héctor', 'Gabriel', 'Isabella']"
      ]
     },
     "execution_count": 9,
     "metadata": {},
     "output_type": "execute_result"
    }
   ],
   "source": [
    "# High-order functions\n",
    "platzi_workers2 = list(filter(lambda worker: worker[\"organization\"] == \"Platzi\", DATA))\n",
    "platzi_workers2 = list(map(lambda worker: worker[\"name\"], platzi_workers2))\n",
    "platzi_workers2"
   ]
  },
  {
   "cell_type": "code",
   "execution_count": 13,
   "metadata": {},
   "outputs": [
    {
     "data": {
      "text/plain": [
       "['Facundo',\n",
       " 'Luisana',\n",
       " 'Héctor',\n",
       " 'Gabriel',\n",
       " 'Isabella',\n",
       " 'Karo',\n",
       " 'Ariel',\n",
       " 'Pablo',\n",
       " 'Lorena']"
      ]
     },
     "execution_count": 13,
     "metadata": {},
     "output_type": "execute_result"
    }
   ],
   "source": [
    "# High-order functions\n",
    "adults2 = list(filter(lambda worker: worker[\"age\"] > 18, DATA))\n",
    "adults2 = list(map(lambda worker: worker[\"name\"], adults2))\n",
    "adults2"
   ]
  },
  {
   "cell_type": "markdown",
   "metadata": {},
   "source": [
    "# PEP Example"
   ]
  },
  {
   "cell_type": "code",
   "execution_count": 16,
   "metadata": {},
   "outputs": [
    {
     "name": "stdout",
     "output_type": "stream",
     "text": [
      "Facundo :  True\n",
      "Luisana :  False\n",
      "Héctor :  False\n",
      "Gabriel :  False\n",
      "Isabella :  False\n",
      "Karo :  False\n",
      "Ariel :  False\n",
      "Juan :  False\n",
      "Pablo :  False\n",
      "Lorena :  False\n"
     ]
    }
   ],
   "source": [
    "# PEP\n",
    "old_workers = list(map(lambda worker: {**worker, **{\"old\": worker[\"age\"] > 70}}, DATA))\n",
    "for worker in old_workers:\n",
    "    print(worker[\"name\"], \": \", worker[\"old\"])"
   ]
  }
 ],
 "metadata": {
  "kernelspec": {
   "display_name": "Python 3",
   "language": "python",
   "name": "python3"
  },
  "language_info": {
   "codemirror_mode": {
    "name": "ipython",
    "version": 3
   },
   "file_extension": ".py",
   "mimetype": "text/x-python",
   "name": "python",
   "nbconvert_exporter": "python",
   "pygments_lexer": "ipython3",
   "version": "3.8.10"
  }
 },
 "nbformat": 4,
 "nbformat_minor": 4
}
