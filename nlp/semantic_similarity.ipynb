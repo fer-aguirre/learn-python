{
 "cells": [
  {
   "cell_type": "markdown",
   "metadata": {},
   "source": [
    "### Semantic Similarity"
   ]
  },
  {
   "cell_type": "code",
   "execution_count": 1,
   "metadata": {},
   "outputs": [
    {
     "name": "stderr",
     "output_type": "stream",
     "text": [
      "[nltk_data] Downloading package omw to /home/fxr/nltk_data...\n",
      "[nltk_data]   Package omw is already up-to-date!\n",
      "[nltk_data] Downloading package wordnet to /home/fxr/nltk_data...\n",
      "[nltk_data]   Package wordnet is already up-to-date!\n"
     ]
    }
   ],
   "source": [
    "import nltk\n",
    "\n",
    "nltk.download('omw')\n",
    "nltk.download('wordnet')\n",
    "from nltk.corpus import wordnet as wn"
   ]
  },
  {
   "cell_type": "code",
   "execution_count": 3,
   "metadata": {},
   "outputs": [],
   "source": [
    "\"\"\"\n",
    "Function to show\n",
    "the synsets of a \n",
    "word in Spanish\n",
    "\"\"\"\n",
    "def show_syns(word):\n",
    "  ss = wn.synsets(word, lang='spa')\n",
    "  for syn in ss:\n",
    "    print(syn.name(), ': ', syn.definition())\n",
    "    for name in syn.lemma_names():\n",
    "      print(' * ', name)\n",
    "  return ss"
   ]
  },
  {
   "cell_type": "code",
   "execution_count": 4,
   "metadata": {},
   "outputs": [
    {
     "name": "stdout",
     "output_type": "stream",
     "text": [
      "dog.n.01 :  a member of the genus Canis (probably descended from the common wolf) that has been domesticated by man since prehistoric times; occurs in many breeds\n",
      " *  dog\n",
      " *  domestic_dog\n",
      " *  Canis_familiaris\n",
      "rotter.n.01 :  a person who is deemed to be despicable or contemptible\n",
      " *  rotter\n",
      " *  dirty_dog\n",
      " *  rat\n",
      " *  skunk\n",
      " *  stinker\n",
      " *  stinkpot\n",
      " *  bum\n",
      " *  puke\n",
      " *  crumb\n",
      " *  lowlife\n",
      " *  scum_bag\n",
      " *  so-and-so\n",
      " *  git\n"
     ]
    }
   ],
   "source": [
    "ss1 = show_syns('perro')"
   ]
  },
  {
   "cell_type": "code",
   "execution_count": 5,
   "metadata": {},
   "outputs": [
    {
     "name": "stdout",
     "output_type": "stream",
     "text": [
      "cat.n.01 :  feline mammal usually having thick soft fur and no ability to roar: domestic cats; wildcats\n",
      " *  cat\n",
      " *  true_cat\n",
      "tom.n.02 :  male cat\n",
      " *  tom\n",
      " *  tomcat\n",
      "dodger.n.01 :  a shifty deceptive person\n",
      " *  dodger\n",
      " *  fox\n",
      " *  slyboots\n"
     ]
    }
   ],
   "source": [
    "ss2 = show_syns('gato')"
   ]
  },
  {
   "cell_type": "code",
   "execution_count": 6,
   "metadata": {},
   "outputs": [
    {
     "name": "stdout",
     "output_type": "stream",
     "text": [
      "animal.n.01 :  a living organism characterized by voluntary movement\n",
      " *  animal\n",
      " *  animate_being\n",
      " *  beast\n",
      " *  brute\n",
      " *  creature\n",
      " *  fauna\n",
      "beast.n.02 :  a cruelly rapacious person\n",
      " *  beast\n",
      " *  wolf\n",
      " *  savage\n",
      " *  brute\n",
      " *  wildcat\n",
      "dunce.n.01 :  a stupid person; these words are used to express a low opinion of someone's intelligence\n",
      " *  dunce\n",
      " *  dunderhead\n",
      " *  numskull\n",
      " *  blockhead\n",
      " *  bonehead\n",
      " *  lunkhead\n",
      " *  hammerhead\n",
      " *  knucklehead\n",
      " *  loggerhead\n",
      " *  muttonhead\n",
      " *  shithead\n",
      " *  dumbass\n",
      " *  fuckhead\n"
     ]
    }
   ],
   "source": [
    "ss3 = show_syns('animal')"
   ]
  },
  {
   "cell_type": "markdown",
   "metadata": {},
   "source": [
    "### Define the synsets according to the context"
   ]
  },
  {
   "cell_type": "code",
   "execution_count": 7,
   "metadata": {},
   "outputs": [],
   "source": [
    "perro = ss1[0]\n",
    "gato = ss2[0]\n",
    "animal = ss3[0]"
   ]
  },
  {
   "cell_type": "code",
   "execution_count": 8,
   "metadata": {},
   "outputs": [
    {
     "data": {
      "text/plain": [
       "0.3333333333333333"
      ]
     },
     "execution_count": 8,
     "metadata": {},
     "output_type": "execute_result"
    }
   ],
   "source": [
    "animal.path_similarity(perro)"
   ]
  },
  {
   "cell_type": "code",
   "execution_count": 9,
   "metadata": {},
   "outputs": [
    {
     "data": {
      "text/plain": [
       "0.125"
      ]
     },
     "execution_count": 9,
     "metadata": {},
     "output_type": "execute_result"
    }
   ],
   "source": [
    "animal.path_similarity(gato)"
   ]
  }
 ],
 "metadata": {
  "interpreter": {
   "hash": "e914f02840327f40e26e6a4228510eb118f3c7f4b5ce99237f464ffa87273efa"
  },
  "kernelspec": {
   "display_name": "Python 3.8.10 64-bit ('env_learn-python': venv)",
   "language": "python",
   "name": "python3"
  },
  "language_info": {
   "codemirror_mode": {
    "name": "ipython",
    "version": 3
   },
   "file_extension": ".py",
   "mimetype": "text/x-python",
   "name": "python",
   "nbconvert_exporter": "python",
   "pygments_lexer": "ipython3",
   "version": "3.8.10"
  },
  "orig_nbformat": 4
 },
 "nbformat": 4,
 "nbformat_minor": 2
}
