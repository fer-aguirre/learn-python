{
 "cells": [
  {
   "cell_type": "markdown",
   "metadata": {},
   "source": [
    "# Classes create a new local namespace where all its attributes are defined"
   ]
  },
  {
   "cell_type": "markdown",
   "metadata": {},
   "source": [
    "Class definitions begin with a `class` keyword.\n",
    "\n",
    "```\n",
    "class class_name:\n",
    "    def __init__(self, params):\n",
    "        self.x = x\n",
    "\n",
    "    def method_name(self, params):\n",
    "        pass\n",
    "```\n",
    "\n",
    "- **Constructors:** `__init__` (dunder) gets called whenever a new object of that class is initiated.\n",
    "- **Parameter  self:** The first argument of a method is called `self` by convention.\n",
    "- **Instance Variables:** Data attributes that need to be declared. \n",
    "- **Methods:** A function that belongs to the object.\n",
    "    - Public methods\n",
    "    - Private methods ( begin with '_' )"
   ]
  },
  {
   "cell_type": "code",
   "execution_count": 1,
   "metadata": {},
   "outputs": [
    {
     "data": {
      "text/plain": [
       "'Hola Erika, me llamo David'"
      ]
     },
     "execution_count": 1,
     "metadata": {},
     "output_type": "execute_result"
    }
   ],
   "source": [
    "class Persona:\n",
    "    # Dunder means double under (underscores)\n",
    "    def __init__(self, nombre, edad):\n",
    "        self.nombre = nombre\n",
    "        self.edad = edad\n",
    "\n",
    "    def saluda(self, otra_persona):\n",
    "        return(f\"Hola {otra_persona.nombre}, me llamo {self.nombre}\")\n",
    "\n",
    "david = Persona('David', 35)\n",
    "erika = Persona('Erika', 32)\n",
    "david.saluda(erika)"
   ]
  },
  {
   "cell_type": "markdown",
   "metadata": {},
   "source": [
    "This class can show the distance between two coordinates through Euclidean metric:\n",
    "\n",
    "$ d = \\sqrt{[(x2 - x1)^2 + (y2 – y1)^2]} $"
   ]
  },
  {
   "cell_type": "code",
   "execution_count": 1,
   "metadata": {},
   "outputs": [
    {
     "name": "stdout",
     "output_type": "stream",
     "text": [
      "22.02271554554524\n"
     ]
    }
   ],
   "source": [
    "class Coordenada:\n",
    "    def __init__(self, x, y):\n",
    "        self.x = x\n",
    "        self.y = y\n",
    "\n",
    "    def distancia(self, otra_coordenada):\n",
    "        x_diff = (self.x - otra_coordenada.x)**2\n",
    "        y_diff = (self.y - otra_coordenada.y)**2\n",
    "\n",
    "        return(x_diff + y_diff)**0.5\n",
    "\n",
    "coord1 = Coordenada(3, 30)\n",
    "coord2 = Coordenada(4, 8)\n",
    "\n",
    "print(coord1.distancia(coord2))"
   ]
  },
  {
   "cell_type": "markdown",
   "metadata": {},
   "source": [
    "Built-in function that returns `True` if the specified object is of the specified type, otherwise `False`"
   ]
  },
  {
   "cell_type": "code",
   "execution_count": 11,
   "metadata": {},
   "outputs": [
    {
     "name": "stdout",
     "output_type": "stream",
     "text": [
      "True\n",
      "False\n"
     ]
    }
   ],
   "source": [
    "print(isinstance(coord2, Coordenada))\n",
    "print(isinstance(8, Coordenada))"
   ]
  }
 ],
 "metadata": {
  "interpreter": {
   "hash": "e914f02840327f40e26e6a4228510eb118f3c7f4b5ce99237f464ffa87273efa"
  },
  "kernelspec": {
   "display_name": "Python 3.8.10 64-bit ('env_learn-python': venv)",
   "language": "python",
   "name": "python3"
  },
  "language_info": {
   "codemirror_mode": {
    "name": "ipython",
    "version": 3
   },
   "file_extension": ".py",
   "mimetype": "text/x-python",
   "name": "python",
   "nbconvert_exporter": "python",
   "pygments_lexer": "ipython3",
   "version": "3.8.10"
  },
  "orig_nbformat": 4
 },
 "nbformat": 4,
 "nbformat_minor": 2
}
