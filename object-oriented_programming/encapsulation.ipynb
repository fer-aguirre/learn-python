{
 "cells": [
  {
   "cell_type": "markdown",
   "metadata": {},
   "source": [
    "### Public, Protected and Private attributes\n",
    "\n",
    "- *Protected* attributes don't prevent instance variables from accessing or modifying the instance"
   ]
  },
  {
   "cell_type": "code",
   "execution_count": 21,
   "metadata": {},
   "outputs": [
    {
     "name": "stdout",
     "output_type": "stream",
     "text": [
      "Fer qwerty\n"
     ]
    }
   ],
   "source": [
    "class User:\n",
    "    def __init__(self, name, password):\n",
    "        self.name = name # Public attribute\n",
    "        self._password = password # Protected attribute with a single underscore '_\n",
    "        \n",
    "user1 = User(\"Fer\", \"qwerty\")\n",
    "print (user1.name, user1._password)"
   ]
  },
  {
   "cell_type": "markdown",
   "metadata": {},
   "source": [
    "- *Private* attributes suggest not to touch it from outside the class. Any attempt to do so will result in an `AttributeError`"
   ]
  },
  {
   "cell_type": "code",
   "execution_count": 16,
   "metadata": {},
   "outputs": [
    {
     "ename": "AttributeError",
     "evalue": "'User' object has no attribute '__password'",
     "output_type": "error",
     "traceback": [
      "\u001b[0;31m---------------------------------------------------------------------------\u001b[0m",
      "\u001b[0;31mAttributeError\u001b[0m                            Traceback (most recent call last)",
      "\u001b[0;32m/tmp/ipykernel_14886/1365586341.py\u001b[0m in \u001b[0;36m<module>\u001b[0;34m\u001b[0m\n\u001b[1;32m      6\u001b[0m \u001b[0;34m\u001b[0m\u001b[0m\n\u001b[1;32m      7\u001b[0m \u001b[0muser1\u001b[0m \u001b[0;34m=\u001b[0m \u001b[0mUser\u001b[0m\u001b[0;34m(\u001b[0m\u001b[0;34m\"Fer\"\u001b[0m\u001b[0;34m,\u001b[0m \u001b[0;34m\"qwerty\"\u001b[0m\u001b[0;34m)\u001b[0m\u001b[0;34m\u001b[0m\u001b[0;34m\u001b[0m\u001b[0m\n\u001b[0;32m----> 8\u001b[0;31m \u001b[0mprint\u001b[0m \u001b[0;34m(\u001b[0m\u001b[0muser1\u001b[0m\u001b[0;34m.\u001b[0m\u001b[0mname\u001b[0m\u001b[0;34m,\u001b[0m \u001b[0muser1\u001b[0m\u001b[0;34m.\u001b[0m\u001b[0m__password\u001b[0m\u001b[0;34m)\u001b[0m\u001b[0;34m\u001b[0m\u001b[0;34m\u001b[0m\u001b[0m\n\u001b[0m",
      "\u001b[0;31mAttributeError\u001b[0m: 'User' object has no attribute '__password'"
     ]
    }
   ],
   "source": [
    "class User:\n",
    "    def __init__(self, name, password):\n",
    "        self.name = name # Public attribute\n",
    "        self.__password = password # Private attribute with double underscore '__'\n",
    "        \n",
    "user1 = User(\"Fer\", \"qwerty\")\n",
    "print (user1.name, user1.__password)"
   ]
  },
  {
   "cell_type": "markdown",
   "metadata": {},
   "source": [
    "- *Private* attributes can be modified with `_object._class__variable`"
   ]
  },
  {
   "cell_type": "code",
   "execution_count": 22,
   "metadata": {},
   "outputs": [
    {
     "name": "stdout",
     "output_type": "stream",
     "text": [
      "Fer qwerty\n"
     ]
    }
   ],
   "source": [
    "class User:\n",
    "    def __init__(self, name, password):\n",
    "        self.name = name # Public attribute\n",
    "        self.__password = password # Private attribute with '__\n",
    "        \n",
    "user1 = User(\"Fer\", \"qwerty\")\n",
    "print (user1.name, user1._User__password) # Set the class of the private attribute"
   ]
  },
  {
   "cell_type": "markdown",
   "metadata": {},
   "source": [
    "### *Encapsulation* describes the idea of wrapping data and the methods that work on data within one unit\n",
    "\n",
    "`property()` is a built-in function used to return the property attributes of a class. Property has the methods `getter()`, `setter()` and `del()`.\n",
    "\n",
    "The function has four attributes `property(fget, fset, fdel, fdoc)`:\n",
    "\n",
    "- `fget`: bring a value from an attribute\n",
    "- `fset`: defines a value from an attribute\n",
    "- `fdel`: deletes a value from the attribute\n",
    "- `fdoc`: creates a *docstring* from the attribute"
   ]
  },
  {
   "cell_type": "code",
   "execution_count": 8,
   "metadata": {},
   "outputs": [
    {
     "name": "stdout",
     "output_type": "stream",
     "text": [
      "Robin\n",
      "Modifying name..\n",
      "The name has been modified for:\n",
      "Rob\n",
      "Deleting name...\n"
     ]
    }
   ],
   "source": [
    "class Dogs(object): # Create Dog class\n",
    "    def __init__(self, name, weight): #Define parameters\n",
    "        self.__name = name #Declare attributes (public and private)\n",
    "        self.__weight = weight\n",
    "\n",
    "    def get_name(self): # Define the method for getting the name\n",
    "        \"Get the dog name\" # Doc for method\n",
    "        return self.__name # Return the private attribute\n",
    "\n",
    "    def set_name(self, new): # Define the method for setting the name\n",
    "        print (\"Modifying name..\")\n",
    "        self.__name = new\n",
    "        print (\"The name has been modified for:\")\n",
    "        print (self.__name) # Return the attribute to confirm\n",
    "\n",
    "    def delete_name(self): \n",
    "        print(\"Deleting name...\")\n",
    "        del self.__name\n",
    "\n",
    "    name = property(get_name, set_name, delete_name) # Assign the property methods for an attribute\n",
    "        \n",
    "    # Here stops property\n",
    "    def weight(self): # Define the method to obtain the weight\n",
    "        return self.__weight # Return the private attribute\n",
    "\n",
    "Robin = Dogs('Robin', 7) # Create an object\n",
    "print(Robin.name) # Print the name 'Robin' through getter\n",
    "Robin.name = 'Rob' # Change the name attribute through setter\n",
    "del Robin.name # Deelete the name attribute through deleter"
   ]
  },
  {
   "cell_type": "markdown",
   "metadata": {},
   "source": [
    "### `@property` decorator"
   ]
  },
  {
   "cell_type": "code",
   "execution_count": 7,
   "metadata": {},
   "outputs": [
    {
     "name": "stdout",
     "output_type": "stream",
     "text": [
      "Robin\n",
      "Modifying name..\n",
      "The name has been modified for:\n",
      "Rob\n",
      "Deleting name...\n"
     ]
    }
   ],
   "source": [
    "class Dogs(object): # Create Dog class\n",
    "    def __init__(self, name, weight): #Define parameters\n",
    "        self.__name = name #Declare attributes (public and private)\n",
    "        self.__weight = weight\n",
    "        \n",
    "    @property # Define the methods for getting the attributes with getter (for being the first method after property)\n",
    "    def name(self): # Define the method for getting the name\n",
    "        \"Get the dog name\" # Doc for method\n",
    "        return self.__name # Return the private attribute\n",
    "\n",
    "    # Apply properties to modify the attributes\n",
    "    @name.setter # Setter property\n",
    "    def name(self, new): # Define the method for setting the name\n",
    "        print (\"Modifying name..\")\n",
    "        self.__name = new\n",
    "        print (\"The name has been modified for:\")\n",
    "        print (self.__name) # Return the attribute to confirm\n",
    "\n",
    "    @name.deleter # Deleter property\n",
    "    def name(self): \n",
    "        print(\"Deleting name...\")\n",
    "        del self.__name\n",
    "        \n",
    "    # Here stops property\n",
    "    def weight(self): # Define the method to obtain the weight\n",
    "        return self.__weight # Return the private attribute\n",
    "\n",
    "Robin = Dogs('Robin', 7) # Create an object\n",
    "print(Robin.name) # Print the name 'Robin' through getter\n",
    "Robin.name = 'Rob' # Change the name attribute through setter\n",
    "del Robin.name # Deelete the name attribute through deleter"
   ]
  },
  {
   "cell_type": "markdown",
   "metadata": {},
   "source": [
    "### Using `@property` for a new attribute"
   ]
  },
  {
   "cell_type": "code",
   "execution_count": 10,
   "metadata": {},
   "outputs": [
    {
     "name": "stdout",
     "output_type": "stream",
     "text": [
      "20\n",
      "The weight has been modified for: 25\n",
      "Deleting weight...\n"
     ]
    }
   ],
   "source": [
    "class Dogs(object): # Create Dog class\n",
    "    def __init__(self, name, weight): #Define parameters\n",
    "        self.__name = name #Declare attributes (public and private)\n",
    "        self.__weight = weight\n",
    "        \n",
    "    @property # Define the methods for getting the attributes with getter (for being the first method after property)\n",
    "    def name(self): # Define the method for getting the name\n",
    "        \"Get the dog name\" # Doc for method\n",
    "        return self.__name # Return the private attribute\n",
    "\n",
    "    # Apply properties to modify the attributes\n",
    "    @name.setter # Setter property\n",
    "    def name(self, new_name): # Define the method for setting the name\n",
    "        print (\"Modifying name..\")\n",
    "        self.__name = new_name\n",
    "        print (f\"The name has been modified for: {self.__name}\") # Return the attribute to confirm\n",
    "\n",
    "    @name.deleter # Deleter property\n",
    "    def name(self): \n",
    "        print(\"Deleting name...\")\n",
    "        del self.__name\n",
    "        \n",
    "    @property\n",
    "    def weight(self): # Define the method to obtain the weight (automatically getter)\n",
    "        return self.__weight # Return the private attribute\n",
    "\n",
    "    @weight.setter\n",
    "    def weight(self, new_weight):\n",
    "        self.__weight = new_weight\n",
    "        print (f\"The weight has been modified for: {self.__weight}\")\n",
    "    \n",
    "    @weight.deleter\n",
    "    def weight(self):\n",
    "        print(\"Deleting weight...\")\n",
    "        del self.__weight\n",
    "\n",
    "Robin = Dogs('Robin', 20) # Create an object\n",
    "print(Robin.weight) # Print the name 'Robin' through getter\n",
    "Robin.weight = 25 # Change the name attribute through setter\n",
    "del Robin.weight # Deelete the name attribute through deleter"
   ]
  },
  {
   "cell_type": "markdown",
   "metadata": {},
   "source": [
    "Bibliography:\n",
    "- [Python - Public, Protected, Private Members](https://www.tutorialsteacher.com/python/public-private-protected-modifiers)\n",
    "- [Propiedades @property - Getter, Setter, Deleter y Encapsulamiento](https://pythones.net/propiedades-en-python-oop/#Atributos_protegidos_en_Python)"
   ]
  }
 ],
 "metadata": {
  "interpreter": {
   "hash": "e914f02840327f40e26e6a4228510eb118f3c7f4b5ce99237f464ffa87273efa"
  },
  "kernelspec": {
   "display_name": "Python 3.8.10 64-bit ('env_learn-python': venv)",
   "language": "python",
   "name": "python3"
  },
  "language_info": {
   "codemirror_mode": {
    "name": "ipython",
    "version": 3
   },
   "file_extension": ".py",
   "mimetype": "text/x-python",
   "name": "python",
   "nbconvert_exporter": "python",
   "pygments_lexer": "ipython3",
   "version": "3.8.10"
  },
  "orig_nbformat": 4
 },
 "nbformat": 4,
 "nbformat_minor": 2
}
