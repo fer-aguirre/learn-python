{
 "cells": [
  {
   "cell_type": "markdown",
   "metadata": {},
   "source": [
    "# Abstraction: process of handling complexity by hiding unnecessary information from the user"
   ]
  },
  {
   "cell_type": "code",
   "execution_count": 2,
   "metadata": {},
   "outputs": [
    {
     "name": "stdout",
     "output_type": "stream",
     "text": [
      "Llenando el tanque con agua caliente\n",
      "Añadiendo jabon\n",
      "Lavando ropa\n",
      "Centrifugando la ropa\n"
     ]
    }
   ],
   "source": [
    "class Lavadora:\n",
    "    def __init__(self):\n",
    "        pass\n",
    "\n",
    "    def lavar(self, temperatura='caliente'):\n",
    "        self._llenar_tanque_de_agua(temperatura)\n",
    "        self._anadir_jabon()\n",
    "        self._lavar()\n",
    "        self._centrifugar()\n",
    "\n",
    "    def _llenar_tanque_de_agua(self, temperatura):\n",
    "        print(f\"Llenando el tanque con agua {temperatura}\")\n",
    "\n",
    "    def _anadir_jabon(self):\n",
    "        print(\"Añadiendo jabon\")\n",
    "\n",
    "    def _lavar(self):\n",
    "        print(\"Lavando ropa\")\n",
    "        \n",
    "    def _centrifugar(self):\n",
    "        print(\"Centrifugando la ropa\")\n",
    "\n",
    "\n",
    "lavadora = Lavadora()\n",
    "lavadora.lavar()"
   ]
  }
 ],
 "metadata": {
  "interpreter": {
   "hash": "e914f02840327f40e26e6a4228510eb118f3c7f4b5ce99237f464ffa87273efa"
  },
  "kernelspec": {
   "display_name": "Python 3.8.10 64-bit ('env_learn-python': venv)",
   "language": "python",
   "name": "python3"
  },
  "language_info": {
   "codemirror_mode": {
    "name": "ipython",
    "version": 3
   },
   "file_extension": ".py",
   "mimetype": "text/x-python",
   "name": "python",
   "nbconvert_exporter": "python",
   "pygments_lexer": "ipython3",
   "version": "3.8.10"
  },
  "orig_nbformat": 4
 },
 "nbformat": 4,
 "nbformat_minor": 2
}
