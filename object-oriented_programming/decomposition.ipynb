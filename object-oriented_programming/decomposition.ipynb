{
 "cells": [
  {
   "cell_type": "markdown",
   "metadata": {},
   "source": [
    "# Decomposition: decompose a problem into little pieces"
   ]
  },
  {
   "cell_type": "code",
   "execution_count": 3,
   "metadata": {},
   "outputs": [],
   "source": [
    "class Automovil:\n",
    "    def __init__(self, modelo, marca, color):\n",
    "        self.modelo = modelo\n",
    "        self.marca = marca\n",
    "        self. color = color\n",
    "        self._estado = 'en reposo'\n",
    "        self._motor = Motor(cilindros=4)\n",
    "\n",
    "    def acelerar(self, tipo='despacio'):\n",
    "        if tipo == 'rapido':\n",
    "            self._motor.inyecta_gasolina(10)\n",
    "        else:\n",
    "            self._motor.inyecta_gasolina(3)\n",
    "        self._estado = 'en movimiento'\n",
    "\n",
    "class Motor:\n",
    "    def __init__(self, cilindros, tipo='gasolina'):\n",
    "        self.cilindros = cilindros\n",
    "        self.tipo = tipo\n",
    "        self._temperatura = 0\n",
    "\n",
    "    def inyecta_gasolina(self, cantidad):\n",
    "        pass\n",
    "\n",
    "class Puertas:\n",
    "    def __init__(self, seguros):\n",
    "        self.seguros = seguros\n",
    "\n",
    "    def bloquear_puertas(self, seguros):\n",
    "        if self._estado == 'en reposo':\n",
    "            self.seguros = 'desbloqueados'\n",
    "        else:\n",
    "            self.seguros = 'bloqueados'\n"
   ]
  }
 ],
 "metadata": {
  "interpreter": {
   "hash": "e914f02840327f40e26e6a4228510eb118f3c7f4b5ce99237f464ffa87273efa"
  },
  "kernelspec": {
   "display_name": "Python 3.8.10 64-bit ('env_learn-python': venv)",
   "language": "python",
   "name": "python3"
  },
  "language_info": {
   "codemirror_mode": {
    "name": "ipython",
    "version": 3
   },
   "file_extension": ".py",
   "mimetype": "text/x-python",
   "name": "python",
   "nbconvert_exporter": "python",
   "pygments_lexer": "ipython3",
   "version": "3.8.10"
  },
  "orig_nbformat": 4
 },
 "nbformat": 4,
 "nbformat_minor": 2
}
