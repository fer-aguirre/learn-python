{
 "cells": [
  {
   "cell_type": "markdown",
   "metadata": {},
   "source": [
    "### Set operations can be performed in two different ways: \n",
    "- by operator\n",
    "- by method \n",
    "\n",
    "And generally mimic the operations that are defined for mathematical sets"
   ]
  },
  {
   "cell_type": "markdown",
   "metadata": {},
   "source": [
    "### Union returns two sets joined:\n",
    "- `|` operator\n",
    "- `union()` method"
   ]
  },
  {
   "cell_type": "code",
   "execution_count": 7,
   "metadata": {},
   "outputs": [
    {
     "name": "stdout",
     "output_type": "stream",
     "text": [
      "{1, 2, 3, 4, 5}\n",
      "{1, 2, 3, 4, 5}\n"
     ]
    }
   ],
   "source": [
    "my_set1 = {1, 2, 3}\n",
    "my_set2 = {3, 4, 5}\n",
    "\n",
    "# Union with operator '|'\n",
    "my_set3 = my_set1 | my_set2\n",
    "print(my_set3)\n",
    "\n",
    "# Union with method union()\n",
    "my_set3 = my_set1.union(my_set2)\n",
    "print(my_set3)"
   ]
  },
  {
   "cell_type": "markdown",
   "metadata": {},
   "source": [
    "### Intersection returns a new set by determining which items are in common:\n",
    "- `&` operator\n",
    "- `intersection()` method"
   ]
  },
  {
   "cell_type": "code",
   "execution_count": 6,
   "metadata": {},
   "outputs": [
    {
     "name": "stdout",
     "output_type": "stream",
     "text": [
      "{3}\n",
      "{3}\n"
     ]
    }
   ],
   "source": [
    "my_set1 = {1, 2, 3}\n",
    "my_set2 = {3, 4, 5}\n",
    "\n",
    "# Intersection with operator '&'\n",
    "my_set3 = my_set1 & my_set2\n",
    "print(my_set3)\n",
    "\n",
    "# Intersection with method intersection()\n",
    "my_set3 = my_set1.intersection(my_set2)\n",
    "print(my_set3)"
   ]
  },
  {
   "cell_type": "markdown",
   "metadata": {},
   "source": [
    "### Difference returns the substraction of two sets:\n",
    "- `-` operator\n",
    "- `difference()` method"
   ]
  },
  {
   "cell_type": "code",
   "execution_count": 9,
   "metadata": {},
   "outputs": [
    {
     "name": "stdout",
     "output_type": "stream",
     "text": [
      "{1, 2}\n",
      "{1, 2}\n"
     ]
    }
   ],
   "source": [
    "my_set1 = {1, 2, 3}\n",
    "my_set2 = {3, 4, 5}\n",
    "\n",
    "# Difference with operator '-'\n",
    "my_set3 = my_set1 - my_set2\n",
    "print(my_set3)\n",
    "\n",
    "# Difference with method difference()\n",
    "my_set3 = my_set1.difference(my_set2)\n",
    "print(my_set3)\n"
   ]
  },
  {
   "cell_type": "code",
   "execution_count": 10,
   "metadata": {},
   "outputs": [
    {
     "name": "stdout",
     "output_type": "stream",
     "text": [
      "{4, 5}\n",
      "{4, 5}\n"
     ]
    }
   ],
   "source": [
    "my_set1 = {1, 2, 3}\n",
    "my_set2 = {3, 4, 5}\n",
    "\n",
    "# Difference with operator '-'\n",
    "my_set3 = my_set2 - my_set1\n",
    "print(my_set3)\n",
    "\n",
    "# Difference with method difference()\n",
    "my_set3 = my_set2.difference(my_set1)\n",
    "print(my_set3)\n"
   ]
  },
  {
   "cell_type": "markdown",
   "metadata": {},
   "source": [
    "### Symetric Difference returns the elements in either x1 or x2, but not both:\n",
    "- `^` operator\n",
    "- `symmetric_difference()` method"
   ]
  },
  {
   "cell_type": "code",
   "execution_count": 11,
   "metadata": {},
   "outputs": [
    {
     "name": "stdout",
     "output_type": "stream",
     "text": [
      "{1, 2, 4, 5}\n",
      "{1, 2, 4, 5}\n"
     ]
    }
   ],
   "source": [
    "my_set1 = {1, 2, 3}\n",
    "my_set2 = {3, 4, 5}\n",
    "\n",
    "# Symmetric difference with operator '^'\n",
    "my_set3 = my_set1 ^ my_set2\n",
    "print(my_set3)\n",
    "\n",
    "# Symmetric difference with method symmetric_difference()\n",
    "my_set3 = my_set1.symmetric_difference(my_set2)\n",
    "print(my_set3)\n"
   ]
  }
 ],
 "metadata": {
  "interpreter": {
   "hash": "e914f02840327f40e26e6a4228510eb118f3c7f4b5ce99237f464ffa87273efa"
  },
  "kernelspec": {
   "display_name": "Python 3.8.10 64-bit ('env_learn-python': venv)",
   "language": "python",
   "name": "python3"
  },
  "language_info": {
   "codemirror_mode": {
    "name": "ipython",
    "version": 3
   },
   "file_extension": ".py",
   "mimetype": "text/x-python",
   "name": "python",
   "nbconvert_exporter": "python",
   "pygments_lexer": "ipython3",
   "version": "3.8.10"
  },
  "orig_nbformat": 4
 },
 "nbformat": 4,
 "nbformat_minor": 2
}
