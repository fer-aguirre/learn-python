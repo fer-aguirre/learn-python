{
 "cells": [
  {
   "cell_type": "markdown",
   "metadata": {},
   "source": [
    "### Paths management with [pyfilesystem2](https://docs.pyfilesystem.org/en/latest/)"
   ]
  },
  {
   "cell_type": "code",
   "execution_count": 2,
   "metadata": {},
   "outputs": [],
   "source": [
    "# !pip install fs\n",
    "import fs"
   ]
  },
  {
   "cell_type": "markdown",
   "metadata": {},
   "source": [
    "### `fs.open_fs()`: Open a OSFS (Operating Systsem File System)"
   ]
  },
  {
   "cell_type": "code",
   "execution_count": 5,
   "metadata": {},
   "outputs": [
    {
     "name": "stdout",
     "output_type": "stream",
     "text": [
      "<osfs '/home/fxr/Documents/cursos/learn-python/modules'>\n"
     ]
    }
   ],
   "source": [
    "CURRENT_DIR = fs.open_fs(\".\")\n",
    "\n",
    "print(CURRENT_DIR)"
   ]
  },
  {
   "cell_type": "markdown",
   "metadata": {},
   "source": [
    "### `fs.exists()`: Check whether the specified path is an existing directory or not"
   ]
  },
  {
   "cell_type": "code",
   "execution_count": 7,
   "metadata": {},
   "outputs": [
    {
     "name": "stdout",
     "output_type": "stream",
     "text": [
      "True\n"
     ]
    }
   ],
   "source": [
    "DATA_DIR = fs.open_fs(\"../data\")\n",
    "\n",
    "print(DATA_DIR.exists(\"\"))"
   ]
  },
  {
   "cell_type": "markdown",
   "metadata": {},
   "source": [
    "### `fs.walk.files()`: Scan the files in a given directory"
   ]
  },
  {
   "cell_type": "code",
   "execution_count": 11,
   "metadata": {},
   "outputs": [
    {
     "name": "stdout",
     "output_type": "stream",
     "text": [
      "/coffee_data.csv\n",
      "/data.py\n",
      "/data.txt\n",
      "/__pycache__/data.cpython-38.pyc\n"
     ]
    }
   ],
   "source": [
    "for path in DATA_DIR.walk.files():\n",
    "    print(path)"
   ]
  },
  {
   "cell_type": "markdown",
   "metadata": {},
   "source": [
    "### `fs.glob()`: Glob the given relative pattern in the directory represented by this path"
   ]
  },
  {
   "cell_type": "code",
   "execution_count": 44,
   "metadata": {},
   "outputs": [
    {
     "name": "stdout",
     "output_type": "stream",
     "text": [
      "<class 'fs.glob.Globber'>\n",
      "/coffee_data.csv\n",
      "/data.py\n",
      "/data.txt\n"
     ]
    }
   ],
   "source": [
    "print(type(DATA_DIR.glob(\"*\")))\n",
    "\n",
    "for match in DATA_DIR.glob(\"*\"):\n",
    "    print(match.path)"
   ]
  },
  {
   "cell_type": "markdown",
   "metadata": {},
   "source": [
    "### `fs.open()`: Open a file from a FS object"
   ]
  },
  {
   "cell_type": "code",
   "execution_count": 24,
   "metadata": {},
   "outputs": [
    {
     "name": "stdout",
     "output_type": "stream",
     "text": [
      "['crema\\n', 'café\\n', 'estrella\\n', 'explosión\\n', 'guitarra\\n', 'plástico\\n', 'navaja\\n', 'martillo\\n', 'libros\\n', 'lápiz\\n', 'lapicera\\n', 'aluminio\\n', 'embarcación\\n', 'letra\\n', 'agujeta\\n', 'ventana\\n', 'librería\\n', 'sonido\\n', 'universidad\\n', 'rueda\\n', 'perro\\n', 'llaves\\n', 'camisa\\n', 'pelo\\n', 'papá\\n', 'sillón\\n', 'felicidad\\n', 'catre\\n', 'teclado\\n', 'servilleta\\n', 'escuela\\n', 'pantalla\\n', 'sol\\n', 'codo\\n', 'tenedor\\n', 'estadística\\n', 'mapa\\n', 'agua\\n', 'mensaje\\n', 'lima\\n', 'cohete\\n', 'rey\\n', 'edificio\\n', 'césped\\n', 'presidencia\\n', 'hojas\\n', 'parlante\\n', 'colegio\\n', 'granizo\\n', 'pestaña\\n', 'lámpara\\n', 'mano\\n', 'monitor\\n', 'flor\\n', 'música\\n', 'hombre\\n', 'tornillo\\n', 'habitación\\n', 'velero\\n', 'abuela\\n', 'abuelo\\n', 'palo\\n', 'satélite\\n', 'templo\\n', 'lentes\\n', 'bolígrafo\\n', 'plato\\n', 'nube\\n', 'gobierno\\n', 'botella\\n', 'castillo\\n', 'enano\\n', 'casa\\n', 'libro\\n', 'persona\\n', 'planeta\\n', 'televisor\\n', 'guantes\\n', 'metal\\n', 'teléfono\\n', 'proyector\\n', 'mono\\n', 'remera\\n', 'muela\\n', 'petróleo\\n', 'percha\\n', 'remate\\n', 'debate\\n', 'anillo\\n', 'cuaderno\\n', 'ruido\\n', 'pared\\n', 'taladro\\n', 'herramienta\\n', 'cartas\\n', 'chocolate\\n', 'anteojos\\n', 'impresora\\n', 'caramelos\\n', 'living\\n', 'luces\\n', 'angustia\\n', 'zapato\\n', 'bomba\\n', 'lluvia\\n', 'ojo\\n', 'corbata\\n', 'periódico\\n', 'diente\\n', 'planta\\n', 'chupetín\\n', 'buzo\\n', 'oficina\\n', 'persiana\\n', 'puerta\\n', 'tío\\n', 'silla\\n', 'ensalada\\n', 'pradera\\n', 'zoológico\\n', 'candidato\\n', 'deporte\\n', 'recipiente\\n', 'diarios\\n', 'fotografía\\n', 'ave\\n', 'hierro\\n', 'refugio\\n', 'pantalón\\n', 'barco\\n', 'carne\\n', 'nieve\\n', 'tecla\\n', 'humedad\\n', 'pistola\\n', 'departamento\\n', 'celular\\n', 'tristeza\\n', 'hipopótamo\\n', 'sofá\\n', 'cama\\n', 'árbol\\n', 'mesada\\n', 'campera\\n', 'discurso\\n', 'auto\\n', 'cinturón\\n', 'rúcula\\n', 'famoso\\n', 'madera\\n', 'lentejas\\n', 'piso\\n', 'maletín\\n', 'reloj\\n', 'diputado\\n', 'cuchillo\\n', 'desodorante\\n', 'candado\\n', 'luz\\n', 'montañas\\n', 'computadora\\n', 'radio\\n', 'moño\\n', 'cuadro\\n', 'calor\\n', 'partido\\n', 'teatro\\n', 'bife\\n', 'fiesta\\n', 'bala\\n', 'auriculares']\n"
     ]
    }
   ],
   "source": [
    "with DATA_DIR.open(\"data.txt\") as data_files:\n",
    "    print(data_files.readlines())"
   ]
  },
  {
   "cell_type": "markdown",
   "metadata": {},
   "source": [
    "### `fs.makedir()`: Create a directory"
   ]
  },
  {
   "cell_type": "code",
   "execution_count": 25,
   "metadata": {},
   "outputs": [
    {
     "data": {
      "text/plain": [
       "SubFS(OSFS('/home/fxr/Documents/cursos/learn-python/data'), '/fs')"
      ]
     },
     "execution_count": 25,
     "metadata": {},
     "output_type": "execute_result"
    }
   ],
   "source": [
    "DATA_DIR.makedir(\"fs\", recreate=True)"
   ]
  }
 ],
 "metadata": {
  "interpreter": {
   "hash": "e914f02840327f40e26e6a4228510eb118f3c7f4b5ce99237f464ffa87273efa"
  },
  "kernelspec": {
   "display_name": "Python 3.8.10 64-bit ('env_learn-python': venv)",
   "language": "python",
   "name": "python3"
  },
  "language_info": {
   "codemirror_mode": {
    "name": "ipython",
    "version": 3
   },
   "file_extension": ".py",
   "mimetype": "text/x-python",
   "name": "python",
   "nbconvert_exporter": "python",
   "pygments_lexer": "ipython3",
   "version": "3.8.10"
  },
  "orig_nbformat": 4
 },
 "nbformat": 4,
 "nbformat_minor": 2
}
