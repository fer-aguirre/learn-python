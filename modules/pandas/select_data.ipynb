{
 "cells": [
  {
   "cell_type": "markdown",
   "metadata": {},
   "source": [
    "### [Panel Data](https://www.tutorialspoint.com/python_pandas/python_pandas_panel.htm)"
   ]
  },
  {
   "cell_type": "code",
   "execution_count": 49,
   "metadata": {},
   "outputs": [],
   "source": [
    "import pandas as pd\n",
    "import numpy as np"
   ]
  },
  {
   "cell_type": "markdown",
   "metadata": {},
   "source": [
    "### Create series with `pd.Series()`\n",
    "> Data structure for a single column of a DataFrame"
   ]
  },
  {
   "cell_type": "code",
   "execution_count": 50,
   "metadata": {},
   "outputs": [
    {
     "data": {
      "text/plain": [
       "{'CO': 300, 'MX': 400, 'CH': 200}"
      ]
     },
     "execution_count": 50,
     "metadata": {},
     "output_type": "execute_result"
    }
   ],
   "source": [
    "dict_data = {'CO': 300, 'MX': 400, 'CH': 200}\n",
    "dict_data "
   ]
  },
  {
   "cell_type": "code",
   "execution_count": 51,
   "metadata": {},
   "outputs": [
    {
     "data": {
      "text/plain": [
       "CO    300\n",
       "MX    400\n",
       "CH    200\n",
       "dtype: int64"
      ]
     },
     "execution_count": 51,
     "metadata": {},
     "output_type": "execute_result"
    }
   ],
   "source": [
    "pd.Series(dict_data)"
   ]
  },
  {
   "cell_type": "markdown",
   "metadata": {},
   "source": [
    "### Create a dataframe (collection os series) with `pd.Dataframe()`\n",
    "\n",
    "> Two-dimensional size-mutable, potentially heterogeneous tabular data structure with labeled axes (rows and columns)"
   ]
  },
  {
   "cell_type": "code",
   "execution_count": 52,
   "metadata": {},
   "outputs": [
    {
     "data": {
      "text/plain": [
       "{'CH': [100, 800, 200], 'CO': [100, 200, 300], 'MX': [300, 500, 400]}"
      ]
     },
     "execution_count": 52,
     "metadata": {},
     "output_type": "execute_result"
    }
   ],
   "source": [
    "dict_data = {'CH': [100, 800, 200], 'CO': [100, 200, 300], 'MX': [300, 500, 400]}\n",
    "dict_data"
   ]
  },
  {
   "cell_type": "code",
   "execution_count": 53,
   "metadata": {},
   "outputs": [
    {
     "data": {
      "text/html": [
       "<div>\n",
       "<style scoped>\n",
       "    .dataframe tbody tr th:only-of-type {\n",
       "        vertical-align: middle;\n",
       "    }\n",
       "\n",
       "    .dataframe tbody tr th {\n",
       "        vertical-align: top;\n",
       "    }\n",
       "\n",
       "    .dataframe thead th {\n",
       "        text-align: right;\n",
       "    }\n",
       "</style>\n",
       "<table border=\"1\" class=\"dataframe\">\n",
       "  <thead>\n",
       "    <tr style=\"text-align: right;\">\n",
       "      <th></th>\n",
       "      <th>CH</th>\n",
       "      <th>CO</th>\n",
       "      <th>MX</th>\n",
       "    </tr>\n",
       "  </thead>\n",
       "  <tbody>\n",
       "    <tr>\n",
       "      <th>0</th>\n",
       "      <td>100</td>\n",
       "      <td>100</td>\n",
       "      <td>300</td>\n",
       "    </tr>\n",
       "    <tr>\n",
       "      <th>1</th>\n",
       "      <td>800</td>\n",
       "      <td>200</td>\n",
       "      <td>500</td>\n",
       "    </tr>\n",
       "    <tr>\n",
       "      <th>2</th>\n",
       "      <td>200</td>\n",
       "      <td>300</td>\n",
       "      <td>400</td>\n",
       "    </tr>\n",
       "  </tbody>\n",
       "</table>\n",
       "</div>"
      ],
      "text/plain": [
       "    CH   CO   MX\n",
       "0  100  100  300\n",
       "1  800  200  500\n",
       "2  200  300  400"
      ]
     },
     "execution_count": 53,
     "metadata": {},
     "output_type": "execute_result"
    }
   ],
   "source": [
    "df = pd.DataFrame(dict_data)\n",
    "df"
   ]
  },
  {
   "cell_type": "markdown",
   "metadata": {},
   "source": [
    "### Define index"
   ]
  },
  {
   "cell_type": "code",
   "execution_count": 54,
   "metadata": {},
   "outputs": [
    {
     "data": {
      "text/plain": [
       "{'age': [10, 9, 13, 14, 12, 11, 12],\n",
       " 'cm': [115, 110, 130, 155, 125, 120, 125],\n",
       " 'country': ['co', 'mx', 'co', 'mx', 'mx', 'ch', 'ch'],\n",
       " 'genre': ['F', 'M', 'M', 'M', 'F', 'M', 'F'],\n",
       " 'Q1': [5, 10, 8, nan, 7, 8, 3],\n",
       " 'Q2': [7, 9, 9, 8, 8, 8, 9.0]}"
      ]
     },
     "execution_count": 54,
     "metadata": {},
     "output_type": "execute_result"
    }
   ],
   "source": [
    "dict_data = {\n",
    "    'age' :     [ 10, 9, 13, 14, 12, 11, 12],\n",
    "    'cm' : [ 115, 110, 130, 155, 125, 120, 125],\n",
    "    'country' :    [ 'co', 'mx', 'co', 'mx', 'mx', 'ch', 'ch'],\n",
    "    'genre' :  [ 'F', 'M', 'M', 'M', 'F', 'M', 'F'],\n",
    "    'Q1' : [ 5, 10, 8, np.nan, 7, 8, 3],\n",
    "    'Q2' : [ 7, 9, 9, 8, 8, 8, 9.]\n",
    "}\n",
    "dict_data"
   ]
  },
  {
   "cell_type": "code",
   "execution_count": 55,
   "metadata": {},
   "outputs": [
    {
     "data": {
      "text/html": [
       "<div>\n",
       "<style scoped>\n",
       "    .dataframe tbody tr th:only-of-type {\n",
       "        vertical-align: middle;\n",
       "    }\n",
       "\n",
       "    .dataframe tbody tr th {\n",
       "        vertical-align: top;\n",
       "    }\n",
       "\n",
       "    .dataframe thead th {\n",
       "        text-align: right;\n",
       "    }\n",
       "</style>\n",
       "<table border=\"1\" class=\"dataframe\">\n",
       "  <thead>\n",
       "    <tr style=\"text-align: right;\">\n",
       "      <th></th>\n",
       "      <th>age</th>\n",
       "      <th>cm</th>\n",
       "      <th>country</th>\n",
       "      <th>genre</th>\n",
       "      <th>Q1</th>\n",
       "      <th>Q2</th>\n",
       "    </tr>\n",
       "  </thead>\n",
       "  <tbody>\n",
       "    <tr>\n",
       "      <th>ana</th>\n",
       "      <td>10</td>\n",
       "      <td>115</td>\n",
       "      <td>co</td>\n",
       "      <td>F</td>\n",
       "      <td>5.0</td>\n",
       "      <td>7.0</td>\n",
       "    </tr>\n",
       "    <tr>\n",
       "      <th>benito</th>\n",
       "      <td>9</td>\n",
       "      <td>110</td>\n",
       "      <td>mx</td>\n",
       "      <td>M</td>\n",
       "      <td>10.0</td>\n",
       "      <td>9.0</td>\n",
       "    </tr>\n",
       "    <tr>\n",
       "      <th>camilo</th>\n",
       "      <td>13</td>\n",
       "      <td>130</td>\n",
       "      <td>co</td>\n",
       "      <td>M</td>\n",
       "      <td>8.0</td>\n",
       "      <td>9.0</td>\n",
       "    </tr>\n",
       "    <tr>\n",
       "      <th>daniel</th>\n",
       "      <td>14</td>\n",
       "      <td>155</td>\n",
       "      <td>mx</td>\n",
       "      <td>M</td>\n",
       "      <td>NaN</td>\n",
       "      <td>8.0</td>\n",
       "    </tr>\n",
       "    <tr>\n",
       "      <th>erika</th>\n",
       "      <td>12</td>\n",
       "      <td>125</td>\n",
       "      <td>mx</td>\n",
       "      <td>F</td>\n",
       "      <td>7.0</td>\n",
       "      <td>8.0</td>\n",
       "    </tr>\n",
       "    <tr>\n",
       "      <th>fabian</th>\n",
       "      <td>11</td>\n",
       "      <td>120</td>\n",
       "      <td>ch</td>\n",
       "      <td>M</td>\n",
       "      <td>8.0</td>\n",
       "      <td>8.0</td>\n",
       "    </tr>\n",
       "    <tr>\n",
       "      <th>gabriela</th>\n",
       "      <td>12</td>\n",
       "      <td>125</td>\n",
       "      <td>ch</td>\n",
       "      <td>F</td>\n",
       "      <td>3.0</td>\n",
       "      <td>9.0</td>\n",
       "    </tr>\n",
       "  </tbody>\n",
       "</table>\n",
       "</div>"
      ],
      "text/plain": [
       "          age   cm country genre    Q1   Q2\n",
       "ana        10  115      co     F   5.0  7.0\n",
       "benito      9  110      mx     M  10.0  9.0\n",
       "camilo     13  130      co     M   8.0  9.0\n",
       "daniel     14  155      mx     M   NaN  8.0\n",
       "erika      12  125      mx     F   7.0  8.0\n",
       "fabian     11  120      ch     M   8.0  8.0\n",
       "gabriela   12  125      ch     F   3.0  9.0"
      ]
     },
     "execution_count": 55,
     "metadata": {},
     "output_type": "execute_result"
    }
   ],
   "source": [
    "df = pd.DataFrame(dict_data, index = ['ana','benito','camilo','daniel','erika','fabian','gabriela'])\n",
    "df"
   ]
  },
  {
   "cell_type": "code",
   "execution_count": 56,
   "metadata": {},
   "outputs": [
    {
     "name": "stdout",
     "output_type": "stream",
     "text": [
      "Index:  Index(['ana', 'benito', 'camilo', 'daniel', 'erika', 'fabian', 'gabriela'], dtype='object') \n",
      "\n",
      "Columns:  Index(['age', 'cm', 'country', 'genre', 'Q1', 'Q2'], dtype='object') \n",
      "\n",
      "Values:  [[10 115 'co' 'F' 5.0 7.0]\n",
      " [9 110 'mx' 'M' 10.0 9.0]\n",
      " [13 130 'co' 'M' 8.0 9.0]\n",
      " [14 155 'mx' 'M' nan 8.0]\n",
      " [12 125 'mx' 'F' 7.0 8.0]\n",
      " [11 120 'ch' 'M' 8.0 8.0]\n",
      " [12 125 'ch' 'F' 3.0 9.0]]\n"
     ]
    }
   ],
   "source": [
    "print('Index: ', df.index, '\\n')\n",
    "print('Columns: ', df.columns, '\\n')\n",
    "print('Values: ', df.values)"
   ]
  },
  {
   "cell_type": "markdown",
   "metadata": {},
   "source": [
    "---\n",
    "### Select columns"
   ]
  },
  {
   "cell_type": "code",
   "execution_count": 57,
   "metadata": {},
   "outputs": [
    {
     "data": {
      "text/plain": [
       "ana         10\n",
       "benito       9\n",
       "camilo      13\n",
       "daniel      14\n",
       "erika       12\n",
       "fabian      11\n",
       "gabriela    12\n",
       "Name: age, dtype: int64"
      ]
     },
     "execution_count": 57,
     "metadata": {},
     "output_type": "execute_result"
    }
   ],
   "source": [
    "df['age']"
   ]
  },
  {
   "cell_type": "code",
   "execution_count": 58,
   "metadata": {},
   "outputs": [
    {
     "data": {
      "text/html": [
       "<div>\n",
       "<style scoped>\n",
       "    .dataframe tbody tr th:only-of-type {\n",
       "        vertical-align: middle;\n",
       "    }\n",
       "\n",
       "    .dataframe tbody tr th {\n",
       "        vertical-align: top;\n",
       "    }\n",
       "\n",
       "    .dataframe thead th {\n",
       "        text-align: right;\n",
       "    }\n",
       "</style>\n",
       "<table border=\"1\" class=\"dataframe\">\n",
       "  <thead>\n",
       "    <tr style=\"text-align: right;\">\n",
       "      <th></th>\n",
       "      <th>age</th>\n",
       "      <th>cm</th>\n",
       "      <th>genre</th>\n",
       "    </tr>\n",
       "  </thead>\n",
       "  <tbody>\n",
       "    <tr>\n",
       "      <th>ana</th>\n",
       "      <td>10</td>\n",
       "      <td>115</td>\n",
       "      <td>F</td>\n",
       "    </tr>\n",
       "    <tr>\n",
       "      <th>benito</th>\n",
       "      <td>9</td>\n",
       "      <td>110</td>\n",
       "      <td>M</td>\n",
       "    </tr>\n",
       "    <tr>\n",
       "      <th>camilo</th>\n",
       "      <td>13</td>\n",
       "      <td>130</td>\n",
       "      <td>M</td>\n",
       "    </tr>\n",
       "    <tr>\n",
       "      <th>daniel</th>\n",
       "      <td>14</td>\n",
       "      <td>155</td>\n",
       "      <td>M</td>\n",
       "    </tr>\n",
       "    <tr>\n",
       "      <th>erika</th>\n",
       "      <td>12</td>\n",
       "      <td>125</td>\n",
       "      <td>F</td>\n",
       "    </tr>\n",
       "    <tr>\n",
       "      <th>fabian</th>\n",
       "      <td>11</td>\n",
       "      <td>120</td>\n",
       "      <td>M</td>\n",
       "    </tr>\n",
       "    <tr>\n",
       "      <th>gabriela</th>\n",
       "      <td>12</td>\n",
       "      <td>125</td>\n",
       "      <td>F</td>\n",
       "    </tr>\n",
       "  </tbody>\n",
       "</table>\n",
       "</div>"
      ],
      "text/plain": [
       "          age   cm genre\n",
       "ana        10  115     F\n",
       "benito      9  110     M\n",
       "camilo     13  130     M\n",
       "daniel     14  155     M\n",
       "erika      12  125     F\n",
       "fabian     11  120     M\n",
       "gabriela   12  125     F"
      ]
     },
     "execution_count": 58,
     "metadata": {},
     "output_type": "execute_result"
    }
   ],
   "source": [
    "df[['age', 'cm', 'genre']]"
   ]
  },
  {
   "cell_type": "markdown",
   "metadata": {},
   "source": [
    "---\n",
    "\n",
    "### Select rows and columns by label/index with `loc()`\n",
    "#### `df.loc[row_selection, column_selection]`\n",
    "\n",
    "| row selection | column selection |\n",
    "| :-- | :-- |\n",
    "| index/label value: `'ana'` | named column: `'age'` |\n",
    "| list of labels: `'ana', 'fabian'` | list of column names: `['age', 'country']` |\n",
    "| logical/boolean index: `df['age'] == 10` | slice of columns: `'age':'genre'` |"
   ]
  },
  {
   "cell_type": "code",
   "execution_count": 59,
   "metadata": {},
   "outputs": [
    {
     "data": {
      "text/plain": [
       "age         11\n",
       "cm         120\n",
       "country     ch\n",
       "genre        M\n",
       "Q1         8.0\n",
       "Q2         8.0\n",
       "Name: fabian, dtype: object"
      ]
     },
     "execution_count": 59,
     "metadata": {},
     "output_type": "execute_result"
    }
   ],
   "source": [
    "df.loc['fabian']"
   ]
  },
  {
   "cell_type": "code",
   "execution_count": 60,
   "metadata": {},
   "outputs": [
    {
     "data": {
      "text/plain": [
       "age     10\n",
       "cm     115\n",
       "Q1     5.0\n",
       "Name: ana, dtype: object"
      ]
     },
     "execution_count": 60,
     "metadata": {},
     "output_type": "execute_result"
    }
   ],
   "source": [
    "df.loc['ana',['age','cm','Q1']]"
   ]
  },
  {
   "cell_type": "markdown",
   "metadata": {},
   "source": [
    "### Select rows by boolean/conditional lookup with `loc()`"
   ]
  },
  {
   "cell_type": "code",
   "execution_count": 61,
   "metadata": {},
   "outputs": [
    {
     "data": {
      "text/html": [
       "<div>\n",
       "<style scoped>\n",
       "    .dataframe tbody tr th:only-of-type {\n",
       "        vertical-align: middle;\n",
       "    }\n",
       "\n",
       "    .dataframe tbody tr th {\n",
       "        vertical-align: top;\n",
       "    }\n",
       "\n",
       "    .dataframe thead th {\n",
       "        text-align: right;\n",
       "    }\n",
       "</style>\n",
       "<table border=\"1\" class=\"dataframe\">\n",
       "  <thead>\n",
       "    <tr style=\"text-align: right;\">\n",
       "      <th></th>\n",
       "      <th>age</th>\n",
       "      <th>cm</th>\n",
       "      <th>country</th>\n",
       "      <th>genre</th>\n",
       "      <th>Q1</th>\n",
       "      <th>Q2</th>\n",
       "    </tr>\n",
       "  </thead>\n",
       "  <tbody>\n",
       "    <tr>\n",
       "      <th>erika</th>\n",
       "      <td>12</td>\n",
       "      <td>125</td>\n",
       "      <td>mx</td>\n",
       "      <td>F</td>\n",
       "      <td>7.0</td>\n",
       "      <td>8.0</td>\n",
       "    </tr>\n",
       "    <tr>\n",
       "      <th>gabriela</th>\n",
       "      <td>12</td>\n",
       "      <td>125</td>\n",
       "      <td>ch</td>\n",
       "      <td>F</td>\n",
       "      <td>3.0</td>\n",
       "      <td>9.0</td>\n",
       "    </tr>\n",
       "  </tbody>\n",
       "</table>\n",
       "</div>"
      ],
      "text/plain": [
       "          age   cm country genre   Q1   Q2\n",
       "erika      12  125      mx     F  7.0  8.0\n",
       "gabriela   12  125      ch     F  3.0  9.0"
      ]
     },
     "execution_count": 61,
     "metadata": {},
     "output_type": "execute_result"
    }
   ],
   "source": [
    "df.loc[df['age'] == 12]"
   ]
  },
  {
   "cell_type": "code",
   "execution_count": 62,
   "metadata": {},
   "outputs": [
    {
     "data": {
      "text/html": [
       "<div>\n",
       "<style scoped>\n",
       "    .dataframe tbody tr th:only-of-type {\n",
       "        vertical-align: middle;\n",
       "    }\n",
       "\n",
       "    .dataframe tbody tr th {\n",
       "        vertical-align: top;\n",
       "    }\n",
       "\n",
       "    .dataframe thead th {\n",
       "        text-align: right;\n",
       "    }\n",
       "</style>\n",
       "<table border=\"1\" class=\"dataframe\">\n",
       "  <thead>\n",
       "    <tr style=\"text-align: right;\">\n",
       "      <th></th>\n",
       "      <th>country</th>\n",
       "      <th>age</th>\n",
       "    </tr>\n",
       "  </thead>\n",
       "  <tbody>\n",
       "    <tr>\n",
       "      <th>camilo</th>\n",
       "      <td>co</td>\n",
       "      <td>13</td>\n",
       "    </tr>\n",
       "    <tr>\n",
       "      <th>daniel</th>\n",
       "      <td>mx</td>\n",
       "      <td>14</td>\n",
       "    </tr>\n",
       "  </tbody>\n",
       "</table>\n",
       "</div>"
      ],
      "text/plain": [
       "       country  age\n",
       "camilo      co   13\n",
       "daniel      mx   14"
      ]
     },
     "execution_count": 62,
     "metadata": {},
     "output_type": "execute_result"
    }
   ],
   "source": [
    "df.loc[df['age'] > 12, ['country', 'age']]"
   ]
  },
  {
   "cell_type": "markdown",
   "metadata": {},
   "source": [
    "### Set values using `loc()`"
   ]
  },
  {
   "cell_type": "code",
   "execution_count": 63,
   "metadata": {},
   "outputs": [
    {
     "data": {
      "text/html": [
       "<div>\n",
       "<style scoped>\n",
       "    .dataframe tbody tr th:only-of-type {\n",
       "        vertical-align: middle;\n",
       "    }\n",
       "\n",
       "    .dataframe tbody tr th {\n",
       "        vertical-align: top;\n",
       "    }\n",
       "\n",
       "    .dataframe thead th {\n",
       "        text-align: right;\n",
       "    }\n",
       "</style>\n",
       "<table border=\"1\" class=\"dataframe\">\n",
       "  <thead>\n",
       "    <tr style=\"text-align: right;\">\n",
       "      <th></th>\n",
       "      <th>age</th>\n",
       "      <th>cm</th>\n",
       "      <th>country</th>\n",
       "      <th>genre</th>\n",
       "      <th>Q1</th>\n",
       "      <th>Q2</th>\n",
       "      <th>nationality</th>\n",
       "    </tr>\n",
       "  </thead>\n",
       "  <tbody>\n",
       "    <tr>\n",
       "      <th>ana</th>\n",
       "      <td>10</td>\n",
       "      <td>115</td>\n",
       "      <td>co</td>\n",
       "      <td>F</td>\n",
       "      <td>5.0</td>\n",
       "      <td>7.0</td>\n",
       "      <td>NaN</td>\n",
       "    </tr>\n",
       "    <tr>\n",
       "      <th>benito</th>\n",
       "      <td>9</td>\n",
       "      <td>110</td>\n",
       "      <td>mx</td>\n",
       "      <td>M</td>\n",
       "      <td>10.0</td>\n",
       "      <td>9.0</td>\n",
       "      <td>mexican</td>\n",
       "    </tr>\n",
       "    <tr>\n",
       "      <th>camilo</th>\n",
       "      <td>13</td>\n",
       "      <td>130</td>\n",
       "      <td>co</td>\n",
       "      <td>M</td>\n",
       "      <td>8.0</td>\n",
       "      <td>9.0</td>\n",
       "      <td>NaN</td>\n",
       "    </tr>\n",
       "    <tr>\n",
       "      <th>daniel</th>\n",
       "      <td>14</td>\n",
       "      <td>155</td>\n",
       "      <td>mx</td>\n",
       "      <td>M</td>\n",
       "      <td>NaN</td>\n",
       "      <td>8.0</td>\n",
       "      <td>mexican</td>\n",
       "    </tr>\n",
       "    <tr>\n",
       "      <th>erika</th>\n",
       "      <td>12</td>\n",
       "      <td>125</td>\n",
       "      <td>mx</td>\n",
       "      <td>F</td>\n",
       "      <td>7.0</td>\n",
       "      <td>8.0</td>\n",
       "      <td>mexican</td>\n",
       "    </tr>\n",
       "    <tr>\n",
       "      <th>fabian</th>\n",
       "      <td>11</td>\n",
       "      <td>120</td>\n",
       "      <td>ch</td>\n",
       "      <td>M</td>\n",
       "      <td>8.0</td>\n",
       "      <td>8.0</td>\n",
       "      <td>NaN</td>\n",
       "    </tr>\n",
       "    <tr>\n",
       "      <th>gabriela</th>\n",
       "      <td>12</td>\n",
       "      <td>125</td>\n",
       "      <td>ch</td>\n",
       "      <td>F</td>\n",
       "      <td>3.0</td>\n",
       "      <td>9.0</td>\n",
       "      <td>NaN</td>\n",
       "    </tr>\n",
       "  </tbody>\n",
       "</table>\n",
       "</div>"
      ],
      "text/plain": [
       "          age   cm country genre    Q1   Q2 nationality\n",
       "ana        10  115      co     F   5.0  7.0         NaN\n",
       "benito      9  110      mx     M  10.0  9.0     mexican\n",
       "camilo     13  130      co     M   8.0  9.0         NaN\n",
       "daniel     14  155      mx     M   NaN  8.0     mexican\n",
       "erika      12  125      mx     F   7.0  8.0     mexican\n",
       "fabian     11  120      ch     M   8.0  8.0         NaN\n",
       "gabriela   12  125      ch     F   3.0  9.0         NaN"
      ]
     },
     "execution_count": 63,
     "metadata": {},
     "output_type": "execute_result"
    }
   ],
   "source": [
    "df.loc[df['country'] == 'mx', 'nationality'] = 'mexican'\n",
    "df"
   ]
  },
  {
   "cell_type": "markdown",
   "metadata": {},
   "source": [
    "---\n",
    "\n",
    "### Select rows and columns by integer-location based indexing with `iloc()`\n",
    "\n",
    "#### `df.iloc[row_selection, column_selection]`\n",
    "- integer list of rows/columns: `[0, 1, 2]`\n",
    "- slice of rows/columns: `[1:3]`\n",
    "- single values: `1`"
   ]
  },
  {
   "cell_type": "code",
   "execution_count": 64,
   "metadata": {},
   "outputs": [
    {
     "name": "stdout",
     "output_type": "stream",
     "text": [
      "<class 'pandas.core.series.Series'>\n"
     ]
    },
    {
     "data": {
      "text/plain": [
       "age             10\n",
       "cm             115\n",
       "country         co\n",
       "genre            F\n",
       "Q1             5.0\n",
       "Q2             7.0\n",
       "nationality    NaN\n",
       "Name: ana, dtype: object"
      ]
     },
     "execution_count": 64,
     "metadata": {},
     "output_type": "execute_result"
    }
   ],
   "source": [
    "# Result of type Series because only one row selected\n",
    "print(type(df.iloc[0]))\n",
    "\n",
    "# First row\n",
    "df.iloc[0]"
   ]
  },
  {
   "cell_type": "code",
   "execution_count": 65,
   "metadata": {},
   "outputs": [
    {
     "name": "stdout",
     "output_type": "stream",
     "text": [
      "<class 'pandas.core.frame.DataFrame'>\n"
     ]
    },
    {
     "data": {
      "text/html": [
       "<div>\n",
       "<style scoped>\n",
       "    .dataframe tbody tr th:only-of-type {\n",
       "        vertical-align: middle;\n",
       "    }\n",
       "\n",
       "    .dataframe tbody tr th {\n",
       "        vertical-align: top;\n",
       "    }\n",
       "\n",
       "    .dataframe thead th {\n",
       "        text-align: right;\n",
       "    }\n",
       "</style>\n",
       "<table border=\"1\" class=\"dataframe\">\n",
       "  <thead>\n",
       "    <tr style=\"text-align: right;\">\n",
       "      <th></th>\n",
       "      <th>age</th>\n",
       "      <th>cm</th>\n",
       "      <th>country</th>\n",
       "      <th>genre</th>\n",
       "      <th>Q1</th>\n",
       "      <th>Q2</th>\n",
       "      <th>nationality</th>\n",
       "    </tr>\n",
       "  </thead>\n",
       "  <tbody>\n",
       "    <tr>\n",
       "      <th>ana</th>\n",
       "      <td>10</td>\n",
       "      <td>115</td>\n",
       "      <td>co</td>\n",
       "      <td>F</td>\n",
       "      <td>5.0</td>\n",
       "      <td>7.0</td>\n",
       "      <td>NaN</td>\n",
       "    </tr>\n",
       "  </tbody>\n",
       "</table>\n",
       "</div>"
      ],
      "text/plain": [
       "     age   cm country genre   Q1   Q2 nationality\n",
       "ana   10  115      co     F  5.0  7.0         NaN"
      ]
     },
     "execution_count": 65,
     "metadata": {},
     "output_type": "execute_result"
    }
   ],
   "source": [
    "# Result of type DataFrame because list selection used\n",
    "print(type(df.iloc[[0]]))\n",
    "\n",
    "# First row\n",
    "df.iloc[[0]]"
   ]
  },
  {
   "cell_type": "code",
   "execution_count": 66,
   "metadata": {},
   "outputs": [
    {
     "data": {
      "text/plain": [
       "'co'"
      ]
     },
     "execution_count": 66,
     "metadata": {},
     "output_type": "execute_result"
    }
   ],
   "source": [
    "# First row, third column\n",
    "df.iloc[0, 2]"
   ]
  },
  {
   "cell_type": "code",
   "execution_count": 67,
   "metadata": {},
   "outputs": [
    {
     "data": {
      "text/plain": [
       "ana         10\n",
       "benito       9\n",
       "camilo      13\n",
       "daniel      14\n",
       "erika       12\n",
       "fabian      11\n",
       "gabriela    12\n",
       "Name: age, dtype: int64"
      ]
     },
     "execution_count": 67,
     "metadata": {},
     "output_type": "execute_result"
    }
   ],
   "source": [
    "# First column\n",
    "df.iloc[:, 0]"
   ]
  },
  {
   "cell_type": "code",
   "execution_count": 68,
   "metadata": {},
   "outputs": [
    {
     "data": {
      "text/html": [
       "<div>\n",
       "<style scoped>\n",
       "    .dataframe tbody tr th:only-of-type {\n",
       "        vertical-align: middle;\n",
       "    }\n",
       "\n",
       "    .dataframe tbody tr th {\n",
       "        vertical-align: top;\n",
       "    }\n",
       "\n",
       "    .dataframe thead th {\n",
       "        text-align: right;\n",
       "    }\n",
       "</style>\n",
       "<table border=\"1\" class=\"dataframe\">\n",
       "  <thead>\n",
       "    <tr style=\"text-align: right;\">\n",
       "      <th></th>\n",
       "      <th>age</th>\n",
       "      <th>cm</th>\n",
       "      <th>country</th>\n",
       "      <th>genre</th>\n",
       "      <th>Q1</th>\n",
       "      <th>Q2</th>\n",
       "      <th>nationality</th>\n",
       "    </tr>\n",
       "  </thead>\n",
       "  <tbody>\n",
       "    <tr>\n",
       "      <th>ana</th>\n",
       "      <td>10</td>\n",
       "      <td>115</td>\n",
       "      <td>co</td>\n",
       "      <td>F</td>\n",
       "      <td>5.0</td>\n",
       "      <td>7.0</td>\n",
       "      <td>NaN</td>\n",
       "    </tr>\n",
       "    <tr>\n",
       "      <th>benito</th>\n",
       "      <td>9</td>\n",
       "      <td>110</td>\n",
       "      <td>mx</td>\n",
       "      <td>M</td>\n",
       "      <td>10.0</td>\n",
       "      <td>9.0</td>\n",
       "      <td>mexican</td>\n",
       "    </tr>\n",
       "    <tr>\n",
       "      <th>camilo</th>\n",
       "      <td>13</td>\n",
       "      <td>130</td>\n",
       "      <td>co</td>\n",
       "      <td>M</td>\n",
       "      <td>8.0</td>\n",
       "      <td>9.0</td>\n",
       "      <td>NaN</td>\n",
       "    </tr>\n",
       "  </tbody>\n",
       "</table>\n",
       "</div>"
      ],
      "text/plain": [
       "        age   cm country genre    Q1   Q2 nationality\n",
       "ana      10  115      co     F   5.0  7.0         NaN\n",
       "benito    9  110      mx     M  10.0  9.0     mexican\n",
       "camilo   13  130      co     M   8.0  9.0         NaN"
      ]
     },
     "execution_count": 68,
     "metadata": {},
     "output_type": "execute_result"
    }
   ],
   "source": [
    "# First three rows\n",
    "df.iloc[0:3]"
   ]
  },
  {
   "cell_type": "code",
   "execution_count": 69,
   "metadata": {},
   "outputs": [
    {
     "data": {
      "text/html": [
       "<div>\n",
       "<style scoped>\n",
       "    .dataframe tbody tr th:only-of-type {\n",
       "        vertical-align: middle;\n",
       "    }\n",
       "\n",
       "    .dataframe tbody tr th {\n",
       "        vertical-align: top;\n",
       "    }\n",
       "\n",
       "    .dataframe thead th {\n",
       "        text-align: right;\n",
       "    }\n",
       "</style>\n",
       "<table border=\"1\" class=\"dataframe\">\n",
       "  <thead>\n",
       "    <tr style=\"text-align: right;\">\n",
       "      <th></th>\n",
       "      <th>age</th>\n",
       "      <th>cm</th>\n",
       "      <th>country</th>\n",
       "    </tr>\n",
       "  </thead>\n",
       "  <tbody>\n",
       "    <tr>\n",
       "      <th>ana</th>\n",
       "      <td>10</td>\n",
       "      <td>115</td>\n",
       "      <td>co</td>\n",
       "    </tr>\n",
       "    <tr>\n",
       "      <th>benito</th>\n",
       "      <td>9</td>\n",
       "      <td>110</td>\n",
       "      <td>mx</td>\n",
       "    </tr>\n",
       "    <tr>\n",
       "      <th>camilo</th>\n",
       "      <td>13</td>\n",
       "      <td>130</td>\n",
       "      <td>co</td>\n",
       "    </tr>\n",
       "    <tr>\n",
       "      <th>daniel</th>\n",
       "      <td>14</td>\n",
       "      <td>155</td>\n",
       "      <td>mx</td>\n",
       "    </tr>\n",
       "    <tr>\n",
       "      <th>erika</th>\n",
       "      <td>12</td>\n",
       "      <td>125</td>\n",
       "      <td>mx</td>\n",
       "    </tr>\n",
       "    <tr>\n",
       "      <th>fabian</th>\n",
       "      <td>11</td>\n",
       "      <td>120</td>\n",
       "      <td>ch</td>\n",
       "    </tr>\n",
       "    <tr>\n",
       "      <th>gabriela</th>\n",
       "      <td>12</td>\n",
       "      <td>125</td>\n",
       "      <td>ch</td>\n",
       "    </tr>\n",
       "  </tbody>\n",
       "</table>\n",
       "</div>"
      ],
      "text/plain": [
       "          age   cm country\n",
       "ana        10  115      co\n",
       "benito      9  110      mx\n",
       "camilo     13  130      co\n",
       "daniel     14  155      mx\n",
       "erika      12  125      mx\n",
       "fabian     11  120      ch\n",
       "gabriela   12  125      ch"
      ]
     },
     "execution_count": 69,
     "metadata": {},
     "output_type": "execute_result"
    }
   ],
   "source": [
    "# First three columns\n",
    "df.iloc[:, 0:3]"
   ]
  },
  {
   "cell_type": "code",
   "execution_count": 70,
   "metadata": {},
   "outputs": [
    {
     "data": {
      "text/html": [
       "<div>\n",
       "<style scoped>\n",
       "    .dataframe tbody tr th:only-of-type {\n",
       "        vertical-align: middle;\n",
       "    }\n",
       "\n",
       "    .dataframe tbody tr th {\n",
       "        vertical-align: top;\n",
       "    }\n",
       "\n",
       "    .dataframe thead th {\n",
       "        text-align: right;\n",
       "    }\n",
       "</style>\n",
       "<table border=\"1\" class=\"dataframe\">\n",
       "  <thead>\n",
       "    <tr style=\"text-align: right;\">\n",
       "      <th></th>\n",
       "      <th>Q1</th>\n",
       "      <th>Q2</th>\n",
       "      <th>nationality</th>\n",
       "    </tr>\n",
       "  </thead>\n",
       "  <tbody>\n",
       "    <tr>\n",
       "      <th>fabian</th>\n",
       "      <td>8.0</td>\n",
       "      <td>8.0</td>\n",
       "      <td>NaN</td>\n",
       "    </tr>\n",
       "    <tr>\n",
       "      <th>gabriela</th>\n",
       "      <td>3.0</td>\n",
       "      <td>9.0</td>\n",
       "      <td>NaN</td>\n",
       "    </tr>\n",
       "  </tbody>\n",
       "</table>\n",
       "</div>"
      ],
      "text/plain": [
       "           Q1   Q2 nationality\n",
       "fabian    8.0  8.0         NaN\n",
       "gabriela  3.0  9.0         NaN"
      ]
     },
     "execution_count": 70,
     "metadata": {},
     "output_type": "execute_result"
    }
   ],
   "source": [
    "df.iloc[-2:, 4:]"
   ]
  },
  {
   "cell_type": "code",
   "execution_count": 71,
   "metadata": {},
   "outputs": [
    {
     "data": {
      "text/html": [
       "<div>\n",
       "<style scoped>\n",
       "    .dataframe tbody tr th:only-of-type {\n",
       "        vertical-align: middle;\n",
       "    }\n",
       "\n",
       "    .dataframe tbody tr th {\n",
       "        vertical-align: top;\n",
       "    }\n",
       "\n",
       "    .dataframe thead th {\n",
       "        text-align: right;\n",
       "    }\n",
       "</style>\n",
       "<table border=\"1\" class=\"dataframe\">\n",
       "  <thead>\n",
       "    <tr style=\"text-align: right;\">\n",
       "      <th></th>\n",
       "      <th>cm</th>\n",
       "      <th>genre</th>\n",
       "    </tr>\n",
       "  </thead>\n",
       "  <tbody>\n",
       "    <tr>\n",
       "      <th>ana</th>\n",
       "      <td>115</td>\n",
       "      <td>F</td>\n",
       "    </tr>\n",
       "    <tr>\n",
       "      <th>benito</th>\n",
       "      <td>110</td>\n",
       "      <td>M</td>\n",
       "    </tr>\n",
       "    <tr>\n",
       "      <th>camilo</th>\n",
       "      <td>130</td>\n",
       "      <td>M</td>\n",
       "    </tr>\n",
       "  </tbody>\n",
       "</table>\n",
       "</div>"
      ],
      "text/plain": [
       "         cm genre\n",
       "ana     115     F\n",
       "benito  110     M\n",
       "camilo  130     M"
      ]
     },
     "execution_count": 71,
     "metadata": {},
     "output_type": "execute_result"
    }
   ],
   "source": [
    "df.iloc[[0, 1, 2],[1, 3]]"
   ]
  },
  {
   "cell_type": "code",
   "execution_count": 86,
   "metadata": {},
   "outputs": [
    {
     "data": {
      "text/html": [
       "<div>\n",
       "<style scoped>\n",
       "    .dataframe tbody tr th:only-of-type {\n",
       "        vertical-align: middle;\n",
       "    }\n",
       "\n",
       "    .dataframe tbody tr th {\n",
       "        vertical-align: top;\n",
       "    }\n",
       "\n",
       "    .dataframe thead th {\n",
       "        text-align: right;\n",
       "    }\n",
       "</style>\n",
       "<table border=\"1\" class=\"dataframe\">\n",
       "  <thead>\n",
       "    <tr style=\"text-align: right;\">\n",
       "      <th></th>\n",
       "      <th>age</th>\n",
       "      <th>country</th>\n",
       "      <th>Q1</th>\n",
       "      <th>nationality</th>\n",
       "    </tr>\n",
       "  </thead>\n",
       "  <tbody>\n",
       "    <tr>\n",
       "      <th>ana</th>\n",
       "      <td>10</td>\n",
       "      <td>co</td>\n",
       "      <td>5.0</td>\n",
       "      <td>NaN</td>\n",
       "    </tr>\n",
       "    <tr>\n",
       "      <th>benito</th>\n",
       "      <td>9</td>\n",
       "      <td>mx</td>\n",
       "      <td>10.0</td>\n",
       "      <td>mexican</td>\n",
       "    </tr>\n",
       "    <tr>\n",
       "      <th>camilo</th>\n",
       "      <td>13</td>\n",
       "      <td>co</td>\n",
       "      <td>8.0</td>\n",
       "      <td>NaN</td>\n",
       "    </tr>\n",
       "    <tr>\n",
       "      <th>daniel</th>\n",
       "      <td>14</td>\n",
       "      <td>mx</td>\n",
       "      <td>NaN</td>\n",
       "      <td>mexican</td>\n",
       "    </tr>\n",
       "    <tr>\n",
       "      <th>erika</th>\n",
       "      <td>12</td>\n",
       "      <td>mx</td>\n",
       "      <td>7.0</td>\n",
       "      <td>mexican</td>\n",
       "    </tr>\n",
       "    <tr>\n",
       "      <th>fabian</th>\n",
       "      <td>11</td>\n",
       "      <td>ch</td>\n",
       "      <td>8.0</td>\n",
       "      <td>NaN</td>\n",
       "    </tr>\n",
       "    <tr>\n",
       "      <th>gabriela</th>\n",
       "      <td>12</td>\n",
       "      <td>ch</td>\n",
       "      <td>3.0</td>\n",
       "      <td>NaN</td>\n",
       "    </tr>\n",
       "  </tbody>\n",
       "</table>\n",
       "</div>"
      ],
      "text/plain": [
       "          age country    Q1 nationality\n",
       "ana        10      co   5.0         NaN\n",
       "benito      9      mx  10.0     mexican\n",
       "camilo     13      co   8.0         NaN\n",
       "daniel     14      mx   NaN     mexican\n",
       "erika      12      mx   7.0     mexican\n",
       "fabian     11      ch   8.0         NaN\n",
       "gabriela   12      ch   3.0         NaN"
      ]
     },
     "execution_count": 86,
     "metadata": {},
     "output_type": "execute_result"
    }
   ],
   "source": [
    "# Each two columns\n",
    "df.iloc[:, ::2]"
   ]
  },
  {
   "cell_type": "code",
   "execution_count": 72,
   "metadata": {},
   "outputs": [
    {
     "data": {
      "text/html": [
       "<div>\n",
       "<style scoped>\n",
       "    .dataframe tbody tr th:only-of-type {\n",
       "        vertical-align: middle;\n",
       "    }\n",
       "\n",
       "    .dataframe tbody tr th {\n",
       "        vertical-align: top;\n",
       "    }\n",
       "\n",
       "    .dataframe thead th {\n",
       "        text-align: right;\n",
       "    }\n",
       "</style>\n",
       "<table border=\"1\" class=\"dataframe\">\n",
       "  <thead>\n",
       "    <tr style=\"text-align: right;\">\n",
       "      <th></th>\n",
       "      <th>age</th>\n",
       "      <th>cm</th>\n",
       "      <th>country</th>\n",
       "      <th>genre</th>\n",
       "      <th>Q1</th>\n",
       "      <th>Q2</th>\n",
       "      <th>nationality</th>\n",
       "    </tr>\n",
       "  </thead>\n",
       "  <tbody>\n",
       "    <tr>\n",
       "      <th>ana</th>\n",
       "      <td>10</td>\n",
       "      <td>115</td>\n",
       "      <td>co</td>\n",
       "      <td>F</td>\n",
       "      <td>5.0</td>\n",
       "      <td>7.0</td>\n",
       "      <td>NaN</td>\n",
       "    </tr>\n",
       "    <tr>\n",
       "      <th>camilo</th>\n",
       "      <td>13</td>\n",
       "      <td>130</td>\n",
       "      <td>co</td>\n",
       "      <td>M</td>\n",
       "      <td>8.0</td>\n",
       "      <td>9.0</td>\n",
       "      <td>NaN</td>\n",
       "    </tr>\n",
       "    <tr>\n",
       "      <th>erika</th>\n",
       "      <td>12</td>\n",
       "      <td>125</td>\n",
       "      <td>mx</td>\n",
       "      <td>F</td>\n",
       "      <td>7.0</td>\n",
       "      <td>8.0</td>\n",
       "      <td>mexican</td>\n",
       "    </tr>\n",
       "    <tr>\n",
       "      <th>gabriela</th>\n",
       "      <td>12</td>\n",
       "      <td>125</td>\n",
       "      <td>ch</td>\n",
       "      <td>F</td>\n",
       "      <td>3.0</td>\n",
       "      <td>9.0</td>\n",
       "      <td>NaN</td>\n",
       "    </tr>\n",
       "  </tbody>\n",
       "</table>\n",
       "</div>"
      ],
      "text/plain": [
       "          age   cm country genre   Q1   Q2 nationality\n",
       "ana        10  115      co     F  5.0  7.0         NaN\n",
       "camilo     13  130      co     M  8.0  9.0         NaN\n",
       "erika      12  125      mx     F  7.0  8.0     mexican\n",
       "gabriela   12  125      ch     F  3.0  9.0         NaN"
      ]
     },
     "execution_count": 72,
     "metadata": {},
     "output_type": "execute_result"
    }
   ],
   "source": [
    "# Each two rows\n",
    "df.iloc[::2]"
   ]
  },
  {
   "cell_type": "markdown",
   "metadata": {},
   "source": [
    "---\n",
    "### Boolean lookup"
   ]
  },
  {
   "cell_type": "code",
   "execution_count": 73,
   "metadata": {},
   "outputs": [
    {
     "data": {
      "text/plain": [
       "ana         False\n",
       "benito       True\n",
       "camilo       True\n",
       "daniel       True\n",
       "erika       False\n",
       "fabian       True\n",
       "gabriela    False\n",
       "Name: genre, dtype: bool"
      ]
     },
     "execution_count": 73,
     "metadata": {},
     "output_type": "execute_result"
    }
   ],
   "source": [
    "df['genre'] == 'M'"
   ]
  },
  {
   "cell_type": "code",
   "execution_count": 74,
   "metadata": {},
   "outputs": [
    {
     "data": {
      "text/plain": [
       "ana         False\n",
       "benito       True\n",
       "camilo       True\n",
       "daniel       True\n",
       "erika       False\n",
       "fabian       True\n",
       "gabriela    False\n",
       "Name: genre, dtype: bool"
      ]
     },
     "execution_count": 74,
     "metadata": {},
     "output_type": "execute_result"
    }
   ],
   "source": [
    "df.iloc[:, 3] == 'M'"
   ]
  },
  {
   "cell_type": "code",
   "execution_count": 75,
   "metadata": {},
   "outputs": [
    {
     "data": {
      "text/plain": [
       "ana         False\n",
       "benito       True\n",
       "camilo       True\n",
       "daniel       True\n",
       "erika       False\n",
       "fabian       True\n",
       "gabriela    False\n",
       "Name: genre, dtype: bool"
      ]
     },
     "execution_count": 75,
     "metadata": {},
     "output_type": "execute_result"
    }
   ],
   "source": [
    "df['genre'].str.contains('M')"
   ]
  },
  {
   "cell_type": "markdown",
   "metadata": {},
   "source": [
    "---\n",
    "### Filter data"
   ]
  },
  {
   "cell_type": "code",
   "execution_count": 76,
   "metadata": {},
   "outputs": [
    {
     "data": {
      "text/html": [
       "<div>\n",
       "<style scoped>\n",
       "    .dataframe tbody tr th:only-of-type {\n",
       "        vertical-align: middle;\n",
       "    }\n",
       "\n",
       "    .dataframe tbody tr th {\n",
       "        vertical-align: top;\n",
       "    }\n",
       "\n",
       "    .dataframe thead th {\n",
       "        text-align: right;\n",
       "    }\n",
       "</style>\n",
       "<table border=\"1\" class=\"dataframe\">\n",
       "  <thead>\n",
       "    <tr style=\"text-align: right;\">\n",
       "      <th></th>\n",
       "      <th>age</th>\n",
       "      <th>cm</th>\n",
       "      <th>country</th>\n",
       "      <th>genre</th>\n",
       "      <th>Q1</th>\n",
       "      <th>Q2</th>\n",
       "      <th>nationality</th>\n",
       "    </tr>\n",
       "  </thead>\n",
       "  <tbody>\n",
       "    <tr>\n",
       "      <th>benito</th>\n",
       "      <td>9</td>\n",
       "      <td>110</td>\n",
       "      <td>mx</td>\n",
       "      <td>M</td>\n",
       "      <td>10.0</td>\n",
       "      <td>9.0</td>\n",
       "      <td>mexican</td>\n",
       "    </tr>\n",
       "    <tr>\n",
       "      <th>camilo</th>\n",
       "      <td>13</td>\n",
       "      <td>130</td>\n",
       "      <td>co</td>\n",
       "      <td>M</td>\n",
       "      <td>8.0</td>\n",
       "      <td>9.0</td>\n",
       "      <td>NaN</td>\n",
       "    </tr>\n",
       "    <tr>\n",
       "      <th>daniel</th>\n",
       "      <td>14</td>\n",
       "      <td>155</td>\n",
       "      <td>mx</td>\n",
       "      <td>M</td>\n",
       "      <td>NaN</td>\n",
       "      <td>8.0</td>\n",
       "      <td>mexican</td>\n",
       "    </tr>\n",
       "    <tr>\n",
       "      <th>fabian</th>\n",
       "      <td>11</td>\n",
       "      <td>120</td>\n",
       "      <td>ch</td>\n",
       "      <td>M</td>\n",
       "      <td>8.0</td>\n",
       "      <td>8.0</td>\n",
       "      <td>NaN</td>\n",
       "    </tr>\n",
       "  </tbody>\n",
       "</table>\n",
       "</div>"
      ],
      "text/plain": [
       "        age   cm country genre    Q1   Q2 nationality\n",
       "benito    9  110      mx     M  10.0  9.0     mexican\n",
       "camilo   13  130      co     M   8.0  9.0         NaN\n",
       "daniel   14  155      mx     M   NaN  8.0     mexican\n",
       "fabian   11  120      ch     M   8.0  8.0         NaN"
      ]
     },
     "execution_count": 76,
     "metadata": {},
     "output_type": "execute_result"
    }
   ],
   "source": [
    "df[df['genre'] == 'M']"
   ]
  },
  {
   "cell_type": "code",
   "execution_count": 77,
   "metadata": {},
   "outputs": [
    {
     "data": {
      "text/html": [
       "<div>\n",
       "<style scoped>\n",
       "    .dataframe tbody tr th:only-of-type {\n",
       "        vertical-align: middle;\n",
       "    }\n",
       "\n",
       "    .dataframe tbody tr th {\n",
       "        vertical-align: top;\n",
       "    }\n",
       "\n",
       "    .dataframe thead th {\n",
       "        text-align: right;\n",
       "    }\n",
       "</style>\n",
       "<table border=\"1\" class=\"dataframe\">\n",
       "  <thead>\n",
       "    <tr style=\"text-align: right;\">\n",
       "      <th></th>\n",
       "      <th>age</th>\n",
       "      <th>cm</th>\n",
       "      <th>country</th>\n",
       "      <th>genre</th>\n",
       "      <th>Q1</th>\n",
       "      <th>Q2</th>\n",
       "      <th>nationality</th>\n",
       "    </tr>\n",
       "  </thead>\n",
       "  <tbody>\n",
       "    <tr>\n",
       "      <th>benito</th>\n",
       "      <td>9</td>\n",
       "      <td>110</td>\n",
       "      <td>mx</td>\n",
       "      <td>M</td>\n",
       "      <td>10.0</td>\n",
       "      <td>9.0</td>\n",
       "      <td>mexican</td>\n",
       "    </tr>\n",
       "    <tr>\n",
       "      <th>camilo</th>\n",
       "      <td>13</td>\n",
       "      <td>130</td>\n",
       "      <td>co</td>\n",
       "      <td>M</td>\n",
       "      <td>8.0</td>\n",
       "      <td>9.0</td>\n",
       "      <td>NaN</td>\n",
       "    </tr>\n",
       "    <tr>\n",
       "      <th>daniel</th>\n",
       "      <td>14</td>\n",
       "      <td>155</td>\n",
       "      <td>mx</td>\n",
       "      <td>M</td>\n",
       "      <td>NaN</td>\n",
       "      <td>8.0</td>\n",
       "      <td>mexican</td>\n",
       "    </tr>\n",
       "    <tr>\n",
       "      <th>fabian</th>\n",
       "      <td>11</td>\n",
       "      <td>120</td>\n",
       "      <td>ch</td>\n",
       "      <td>M</td>\n",
       "      <td>8.0</td>\n",
       "      <td>8.0</td>\n",
       "      <td>NaN</td>\n",
       "    </tr>\n",
       "  </tbody>\n",
       "</table>\n",
       "</div>"
      ],
      "text/plain": [
       "        age   cm country genre    Q1   Q2 nationality\n",
       "benito    9  110      mx     M  10.0  9.0     mexican\n",
       "camilo   13  130      co     M   8.0  9.0         NaN\n",
       "daniel   14  155      mx     M   NaN  8.0     mexican\n",
       "fabian   11  120      ch     M   8.0  8.0         NaN"
      ]
     },
     "execution_count": 77,
     "metadata": {},
     "output_type": "execute_result"
    }
   ],
   "source": [
    "df[df.iloc[:, 3] == 'M']"
   ]
  },
  {
   "cell_type": "code",
   "execution_count": 78,
   "metadata": {},
   "outputs": [
    {
     "data": {
      "text/html": [
       "<div>\n",
       "<style scoped>\n",
       "    .dataframe tbody tr th:only-of-type {\n",
       "        vertical-align: middle;\n",
       "    }\n",
       "\n",
       "    .dataframe tbody tr th {\n",
       "        vertical-align: top;\n",
       "    }\n",
       "\n",
       "    .dataframe thead th {\n",
       "        text-align: right;\n",
       "    }\n",
       "</style>\n",
       "<table border=\"1\" class=\"dataframe\">\n",
       "  <thead>\n",
       "    <tr style=\"text-align: right;\">\n",
       "      <th></th>\n",
       "      <th>age</th>\n",
       "      <th>cm</th>\n",
       "      <th>country</th>\n",
       "      <th>genre</th>\n",
       "      <th>Q1</th>\n",
       "      <th>Q2</th>\n",
       "      <th>nationality</th>\n",
       "    </tr>\n",
       "  </thead>\n",
       "  <tbody>\n",
       "    <tr>\n",
       "      <th>benito</th>\n",
       "      <td>9</td>\n",
       "      <td>110</td>\n",
       "      <td>mx</td>\n",
       "      <td>M</td>\n",
       "      <td>10.0</td>\n",
       "      <td>9.0</td>\n",
       "      <td>mexican</td>\n",
       "    </tr>\n",
       "    <tr>\n",
       "      <th>camilo</th>\n",
       "      <td>13</td>\n",
       "      <td>130</td>\n",
       "      <td>co</td>\n",
       "      <td>M</td>\n",
       "      <td>8.0</td>\n",
       "      <td>9.0</td>\n",
       "      <td>NaN</td>\n",
       "    </tr>\n",
       "    <tr>\n",
       "      <th>daniel</th>\n",
       "      <td>14</td>\n",
       "      <td>155</td>\n",
       "      <td>mx</td>\n",
       "      <td>M</td>\n",
       "      <td>NaN</td>\n",
       "      <td>8.0</td>\n",
       "      <td>mexican</td>\n",
       "    </tr>\n",
       "    <tr>\n",
       "      <th>fabian</th>\n",
       "      <td>11</td>\n",
       "      <td>120</td>\n",
       "      <td>ch</td>\n",
       "      <td>M</td>\n",
       "      <td>8.0</td>\n",
       "      <td>8.0</td>\n",
       "      <td>NaN</td>\n",
       "    </tr>\n",
       "  </tbody>\n",
       "</table>\n",
       "</div>"
      ],
      "text/plain": [
       "        age   cm country genre    Q1   Q2 nationality\n",
       "benito    9  110      mx     M  10.0  9.0     mexican\n",
       "camilo   13  130      co     M   8.0  9.0         NaN\n",
       "daniel   14  155      mx     M   NaN  8.0     mexican\n",
       "fabian   11  120      ch     M   8.0  8.0         NaN"
      ]
     },
     "execution_count": 78,
     "metadata": {},
     "output_type": "execute_result"
    }
   ],
   "source": [
    "df[df['genre'].str.contains('M')]"
   ]
  },
  {
   "cell_type": "markdown",
   "metadata": {},
   "source": [
    "### Filter data with conditional"
   ]
  },
  {
   "cell_type": "code",
   "execution_count": 79,
   "metadata": {},
   "outputs": [
    {
     "data": {
      "text/html": [
       "<div>\n",
       "<style scoped>\n",
       "    .dataframe tbody tr th:only-of-type {\n",
       "        vertical-align: middle;\n",
       "    }\n",
       "\n",
       "    .dataframe tbody tr th {\n",
       "        vertical-align: top;\n",
       "    }\n",
       "\n",
       "    .dataframe thead th {\n",
       "        text-align: right;\n",
       "    }\n",
       "</style>\n",
       "<table border=\"1\" class=\"dataframe\">\n",
       "  <thead>\n",
       "    <tr style=\"text-align: right;\">\n",
       "      <th></th>\n",
       "      <th>age</th>\n",
       "      <th>cm</th>\n",
       "      <th>country</th>\n",
       "      <th>genre</th>\n",
       "      <th>Q1</th>\n",
       "      <th>Q2</th>\n",
       "      <th>nationality</th>\n",
       "    </tr>\n",
       "  </thead>\n",
       "  <tbody>\n",
       "    <tr>\n",
       "      <th>camilo</th>\n",
       "      <td>13</td>\n",
       "      <td>130</td>\n",
       "      <td>co</td>\n",
       "      <td>M</td>\n",
       "      <td>8.0</td>\n",
       "      <td>9.0</td>\n",
       "      <td>NaN</td>\n",
       "    </tr>\n",
       "  </tbody>\n",
       "</table>\n",
       "</div>"
      ],
      "text/plain": [
       "        age   cm country genre   Q1   Q2 nationality\n",
       "camilo   13  130      co     M  8.0  9.0         NaN"
      ]
     },
     "execution_count": 79,
     "metadata": {},
     "output_type": "execute_result"
    }
   ],
   "source": [
    "df[(df['genre'] == 'M') & (df['country'] == 'co')]"
   ]
  },
  {
   "cell_type": "markdown",
   "metadata": {},
   "source": [
    "---\n",
    "### Filter data with `query()` method"
   ]
  },
  {
   "cell_type": "code",
   "execution_count": 80,
   "metadata": {},
   "outputs": [
    {
     "data": {
      "text/html": [
       "<div>\n",
       "<style scoped>\n",
       "    .dataframe tbody tr th:only-of-type {\n",
       "        vertical-align: middle;\n",
       "    }\n",
       "\n",
       "    .dataframe tbody tr th {\n",
       "        vertical-align: top;\n",
       "    }\n",
       "\n",
       "    .dataframe thead th {\n",
       "        text-align: right;\n",
       "    }\n",
       "</style>\n",
       "<table border=\"1\" class=\"dataframe\">\n",
       "  <thead>\n",
       "    <tr style=\"text-align: right;\">\n",
       "      <th></th>\n",
       "      <th>age</th>\n",
       "      <th>cm</th>\n",
       "      <th>country</th>\n",
       "      <th>genre</th>\n",
       "      <th>Q1</th>\n",
       "      <th>Q2</th>\n",
       "      <th>nationality</th>\n",
       "    </tr>\n",
       "  </thead>\n",
       "  <tbody>\n",
       "    <tr>\n",
       "      <th>camilo</th>\n",
       "      <td>13</td>\n",
       "      <td>130</td>\n",
       "      <td>co</td>\n",
       "      <td>M</td>\n",
       "      <td>8.0</td>\n",
       "      <td>9.0</td>\n",
       "      <td>NaN</td>\n",
       "    </tr>\n",
       "    <tr>\n",
       "      <th>daniel</th>\n",
       "      <td>14</td>\n",
       "      <td>155</td>\n",
       "      <td>mx</td>\n",
       "      <td>M</td>\n",
       "      <td>NaN</td>\n",
       "      <td>8.0</td>\n",
       "      <td>mexican</td>\n",
       "    </tr>\n",
       "  </tbody>\n",
       "</table>\n",
       "</div>"
      ],
      "text/plain": [
       "        age   cm country genre   Q1   Q2 nationality\n",
       "camilo   13  130      co     M  8.0  9.0         NaN\n",
       "daniel   14  155      mx     M  NaN  8.0     mexican"
      ]
     },
     "execution_count": 80,
     "metadata": {},
     "output_type": "execute_result"
    }
   ],
   "source": [
    "df.query('age > 12')"
   ]
  },
  {
   "cell_type": "code",
   "execution_count": 81,
   "metadata": {},
   "outputs": [
    {
     "data": {
      "text/html": [
       "<div>\n",
       "<style scoped>\n",
       "    .dataframe tbody tr th:only-of-type {\n",
       "        vertical-align: middle;\n",
       "    }\n",
       "\n",
       "    .dataframe tbody tr th {\n",
       "        vertical-align: top;\n",
       "    }\n",
       "\n",
       "    .dataframe thead th {\n",
       "        text-align: right;\n",
       "    }\n",
       "</style>\n",
       "<table border=\"1\" class=\"dataframe\">\n",
       "  <thead>\n",
       "    <tr style=\"text-align: right;\">\n",
       "      <th></th>\n",
       "      <th>age</th>\n",
       "      <th>cm</th>\n",
       "      <th>country</th>\n",
       "      <th>genre</th>\n",
       "      <th>Q1</th>\n",
       "      <th>Q2</th>\n",
       "      <th>nationality</th>\n",
       "    </tr>\n",
       "  </thead>\n",
       "  <tbody>\n",
       "    <tr>\n",
       "      <th>daniel</th>\n",
       "      <td>14</td>\n",
       "      <td>155</td>\n",
       "      <td>mx</td>\n",
       "      <td>M</td>\n",
       "      <td>NaN</td>\n",
       "      <td>8.0</td>\n",
       "      <td>mexican</td>\n",
       "    </tr>\n",
       "  </tbody>\n",
       "</table>\n",
       "</div>"
      ],
      "text/plain": [
       "        age   cm country genre  Q1   Q2 nationality\n",
       "daniel   14  155      mx     M NaN  8.0     mexican"
      ]
     },
     "execution_count": 81,
     "metadata": {},
     "output_type": "execute_result"
    }
   ],
   "source": [
    "df.query('age > 12' and 'cm > 130')"
   ]
  },
  {
   "cell_type": "code",
   "execution_count": 82,
   "metadata": {},
   "outputs": [
    {
     "data": {
      "text/html": [
       "<div>\n",
       "<style scoped>\n",
       "    .dataframe tbody tr th:only-of-type {\n",
       "        vertical-align: middle;\n",
       "    }\n",
       "\n",
       "    .dataframe tbody tr th {\n",
       "        vertical-align: top;\n",
       "    }\n",
       "\n",
       "    .dataframe thead th {\n",
       "        text-align: right;\n",
       "    }\n",
       "</style>\n",
       "<table border=\"1\" class=\"dataframe\">\n",
       "  <thead>\n",
       "    <tr style=\"text-align: right;\">\n",
       "      <th></th>\n",
       "      <th>age</th>\n",
       "      <th>cm</th>\n",
       "      <th>country</th>\n",
       "      <th>genre</th>\n",
       "      <th>Q1</th>\n",
       "      <th>Q2</th>\n",
       "      <th>nationality</th>\n",
       "    </tr>\n",
       "  </thead>\n",
       "  <tbody>\n",
       "    <tr>\n",
       "      <th>benito</th>\n",
       "      <td>9</td>\n",
       "      <td>110</td>\n",
       "      <td>mx</td>\n",
       "      <td>M</td>\n",
       "      <td>10.0</td>\n",
       "      <td>9.0</td>\n",
       "      <td>mexican</td>\n",
       "    </tr>\n",
       "    <tr>\n",
       "      <th>camilo</th>\n",
       "      <td>13</td>\n",
       "      <td>130</td>\n",
       "      <td>co</td>\n",
       "      <td>M</td>\n",
       "      <td>8.0</td>\n",
       "      <td>9.0</td>\n",
       "      <td>NaN</td>\n",
       "    </tr>\n",
       "    <tr>\n",
       "      <th>daniel</th>\n",
       "      <td>14</td>\n",
       "      <td>155</td>\n",
       "      <td>mx</td>\n",
       "      <td>M</td>\n",
       "      <td>NaN</td>\n",
       "      <td>8.0</td>\n",
       "      <td>mexican</td>\n",
       "    </tr>\n",
       "    <tr>\n",
       "      <th>fabian</th>\n",
       "      <td>11</td>\n",
       "      <td>120</td>\n",
       "      <td>ch</td>\n",
       "      <td>M</td>\n",
       "      <td>8.0</td>\n",
       "      <td>8.0</td>\n",
       "      <td>NaN</td>\n",
       "    </tr>\n",
       "  </tbody>\n",
       "</table>\n",
       "</div>"
      ],
      "text/plain": [
       "        age   cm country genre    Q1   Q2 nationality\n",
       "benito    9  110      mx     M  10.0  9.0     mexican\n",
       "camilo   13  130      co     M   8.0  9.0         NaN\n",
       "daniel   14  155      mx     M   NaN  8.0     mexican\n",
       "fabian   11  120      ch     M   8.0  8.0         NaN"
      ]
     },
     "execution_count": 82,
     "metadata": {},
     "output_type": "execute_result"
    }
   ],
   "source": [
    "df.query('genre.str.contains(\"M\")', engine='python')"
   ]
  },
  {
   "cell_type": "code",
   "execution_count": 83,
   "metadata": {},
   "outputs": [
    {
     "data": {
      "text/html": [
       "<div>\n",
       "<style scoped>\n",
       "    .dataframe tbody tr th:only-of-type {\n",
       "        vertical-align: middle;\n",
       "    }\n",
       "\n",
       "    .dataframe tbody tr th {\n",
       "        vertical-align: top;\n",
       "    }\n",
       "\n",
       "    .dataframe thead th {\n",
       "        text-align: right;\n",
       "    }\n",
       "</style>\n",
       "<table border=\"1\" class=\"dataframe\">\n",
       "  <thead>\n",
       "    <tr style=\"text-align: right;\">\n",
       "      <th></th>\n",
       "      <th>age</th>\n",
       "      <th>cm</th>\n",
       "      <th>country</th>\n",
       "      <th>genre</th>\n",
       "      <th>Q1</th>\n",
       "      <th>Q2</th>\n",
       "      <th>nationality</th>\n",
       "    </tr>\n",
       "  </thead>\n",
       "  <tbody>\n",
       "    <tr>\n",
       "      <th>daniel</th>\n",
       "      <td>14</td>\n",
       "      <td>155</td>\n",
       "      <td>mx</td>\n",
       "      <td>M</td>\n",
       "      <td>NaN</td>\n",
       "      <td>8.0</td>\n",
       "      <td>mexican</td>\n",
       "    </tr>\n",
       "  </tbody>\n",
       "</table>\n",
       "</div>"
      ],
      "text/plain": [
       "        age   cm country genre  Q1   Q2 nationality\n",
       "daniel   14  155      mx     M NaN  8.0     mexican"
      ]
     },
     "execution_count": 83,
     "metadata": {},
     "output_type": "execute_result"
    }
   ],
   "source": [
    "df.query('cm > 130 and genre.str.contains(\"M\")', engine='python')"
   ]
  },
  {
   "cell_type": "code",
   "execution_count": 84,
   "metadata": {},
   "outputs": [
    {
     "data": {
      "text/plain": [
       "daniel    8.0\n",
       "Name: Q2, dtype: float64"
      ]
     },
     "execution_count": 84,
     "metadata": {},
     "output_type": "execute_result"
    }
   ],
   "source": [
    "df.query('cm > 130 and genre.str.contains(\"M\")', engine='python')['Q2']"
   ]
  },
  {
   "cell_type": "code",
   "execution_count": 85,
   "metadata": {},
   "outputs": [
    {
     "data": {
      "text/html": [
       "<div>\n",
       "<style scoped>\n",
       "    .dataframe tbody tr th:only-of-type {\n",
       "        vertical-align: middle;\n",
       "    }\n",
       "\n",
       "    .dataframe tbody tr th {\n",
       "        vertical-align: top;\n",
       "    }\n",
       "\n",
       "    .dataframe thead th {\n",
       "        text-align: right;\n",
       "    }\n",
       "</style>\n",
       "<table border=\"1\" class=\"dataframe\">\n",
       "  <thead>\n",
       "    <tr style=\"text-align: right;\">\n",
       "      <th></th>\n",
       "      <th>age</th>\n",
       "      <th>cm</th>\n",
       "      <th>country</th>\n",
       "      <th>genre</th>\n",
       "      <th>Q1</th>\n",
       "      <th>Q2</th>\n",
       "      <th>nationality</th>\n",
       "    </tr>\n",
       "  </thead>\n",
       "  <tbody>\n",
       "    <tr>\n",
       "      <th>ana</th>\n",
       "      <td>10</td>\n",
       "      <td>115</td>\n",
       "      <td>co</td>\n",
       "      <td>F</td>\n",
       "      <td>5.0</td>\n",
       "      <td>7.0</td>\n",
       "      <td>NaN</td>\n",
       "    </tr>\n",
       "    <tr>\n",
       "      <th>camilo</th>\n",
       "      <td>13</td>\n",
       "      <td>130</td>\n",
       "      <td>co</td>\n",
       "      <td>M</td>\n",
       "      <td>8.0</td>\n",
       "      <td>9.0</td>\n",
       "      <td>NaN</td>\n",
       "    </tr>\n",
       "    <tr>\n",
       "      <th>erika</th>\n",
       "      <td>12</td>\n",
       "      <td>125</td>\n",
       "      <td>mx</td>\n",
       "      <td>F</td>\n",
       "      <td>7.0</td>\n",
       "      <td>8.0</td>\n",
       "      <td>mexican</td>\n",
       "    </tr>\n",
       "    <tr>\n",
       "      <th>fabian</th>\n",
       "      <td>11</td>\n",
       "      <td>120</td>\n",
       "      <td>ch</td>\n",
       "      <td>M</td>\n",
       "      <td>8.0</td>\n",
       "      <td>8.0</td>\n",
       "      <td>NaN</td>\n",
       "    </tr>\n",
       "    <tr>\n",
       "      <th>gabriela</th>\n",
       "      <td>12</td>\n",
       "      <td>125</td>\n",
       "      <td>ch</td>\n",
       "      <td>F</td>\n",
       "      <td>3.0</td>\n",
       "      <td>9.0</td>\n",
       "      <td>NaN</td>\n",
       "    </tr>\n",
       "  </tbody>\n",
       "</table>\n",
       "</div>"
      ],
      "text/plain": [
       "          age   cm country genre   Q1   Q2 nationality\n",
       "ana        10  115      co     F  5.0  7.0         NaN\n",
       "camilo     13  130      co     M  8.0  9.0         NaN\n",
       "erika      12  125      mx     F  7.0  8.0     mexican\n",
       "fabian     11  120      ch     M  8.0  8.0         NaN\n",
       "gabriela   12  125      ch     F  3.0  9.0         NaN"
      ]
     },
     "execution_count": 85,
     "metadata": {},
     "output_type": "execute_result"
    }
   ],
   "source": [
    "df[df['Q2'] >= df['Q1']]"
   ]
  },
  {
   "cell_type": "markdown",
   "metadata": {},
   "source": [
    "### Bibliography:\n",
    "- [Pandas iloc and loc](https://www.shanelynn.ie/pandas-iloc-loc-select-rows-and-columns-dataframe/)"
   ]
  }
 ],
 "metadata": {
  "interpreter": {
   "hash": "e914f02840327f40e26e6a4228510eb118f3c7f4b5ce99237f464ffa87273efa"
  },
  "kernelspec": {
   "display_name": "Python 3.8.10 64-bit ('env_learn-python': venv)",
   "language": "python",
   "name": "python3"
  },
  "language_info": {
   "codemirror_mode": {
    "name": "ipython",
    "version": 3
   },
   "file_extension": ".py",
   "mimetype": "text/x-python",
   "name": "python",
   "nbconvert_exporter": "python",
   "pygments_lexer": "ipython3",
   "version": "3.8.10"
  },
  "orig_nbformat": 4
 },
 "nbformat": 4,
 "nbformat_minor": 2
}
