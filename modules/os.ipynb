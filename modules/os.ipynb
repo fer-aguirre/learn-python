{
 "cells": [
  {
   "cell_type": "markdown",
   "metadata": {},
   "source": [
    "### Paths management"
   ]
  },
  {
   "cell_type": "code",
   "execution_count": 1,
   "metadata": {},
   "outputs": [],
   "source": [
    "import os"
   ]
  },
  {
   "cell_type": "markdown",
   "metadata": {},
   "source": [
    "### `os.getcwd()`: Return current working directory"
   ]
  },
  {
   "cell_type": "code",
   "execution_count": 6,
   "metadata": {},
   "outputs": [
    {
     "name": "stdout",
     "output_type": "stream",
     "text": [
      "/home/fxr/Documents/cursos/learn-python/modules\n"
     ]
    }
   ],
   "source": [
    "CURRENT_DIR = os.getcwd()\n",
    "\n",
    "print(CURRENT_DIR)"
   ]
  },
  {
   "cell_type": "markdown",
   "metadata": {},
   "source": [
    "### `os.path.abspath()`: Return an absolute path of current directory"
   ]
  },
  {
   "cell_type": "code",
   "execution_count": 5,
   "metadata": {},
   "outputs": [
    {
     "name": "stdout",
     "output_type": "stream",
     "text": [
      "/home/fxr/Documents/cursos/learn-python/modules/pytz.ipynb\n"
     ]
    }
   ],
   "source": [
    "filename = \"pytz.ipynb\"\n",
    "\n",
    "print(os.path.abspath(filename))"
   ]
  },
  {
   "cell_type": "markdown",
   "metadata": {},
   "source": [
    "### `os.path.join()`: Join one or more path components"
   ]
  },
  {
   "cell_type": "code",
   "execution_count": 26,
   "metadata": {},
   "outputs": [
    {
     "name": "stdout",
     "output_type": "stream",
     "text": [
      "/home/fxr/Documents/cursos/learn-python/modules/pytz.ipynb\n"
     ]
    }
   ],
   "source": [
    "print(os.path.join(CURRENT_DIR, filename))"
   ]
  },
  {
   "cell_type": "code",
   "execution_count": 33,
   "metadata": {},
   "outputs": [
    {
     "name": "stdout",
     "output_type": "stream",
     "text": [
      "/home/Documents\n",
      "/home/Documents/pytz.ipynb\n",
      "/home/pytz.ipynb\n"
     ]
    }
   ],
   "source": [
    "home = \"/home\"\n",
    "documents = \"Documents\"\n",
    "\n",
    "print(os.path.join(home, documents))\n",
    "print(os.path.join(home, documents, filename))\n",
    "# 'home' represents an absolute path so all previous components are thrown away\n",
    "print(os.path.join(documents, home, filename))"
   ]
  },
  {
   "cell_type": "markdown",
   "metadata": {},
   "source": [
    "### `os.pardir`: Return the parent directory"
   ]
  },
  {
   "cell_type": "code",
   "execution_count": 24,
   "metadata": {},
   "outputs": [
    {
     "name": "stdout",
     "output_type": "stream",
     "text": [
      "/home/fxr/Documents/cursos/learn-python\n"
     ]
    }
   ],
   "source": [
    "parent_dir = os.path.abspath(os.path.join(CURRENT_DIR, os.pardir))\n",
    "\n",
    "print(parent_dir)"
   ]
  },
  {
   "cell_type": "markdown",
   "metadata": {},
   "source": [
    "### `os.listdir()`: Get a list of all files and directories in the specified directory"
   ]
  },
  {
   "cell_type": "code",
   "execution_count": 36,
   "metadata": {},
   "outputs": [
    {
     "name": "stdout",
     "output_type": "stream",
     "text": [
      "['numpy.ipynb', 'pandas', 'os.ipynb', 'datetime.ipynb', 'pytz.ipynb']\n"
     ]
    }
   ],
   "source": [
    "dir_files = os.listdir(CURRENT_DIR)\n",
    "\n",
    "print(dir_files)"
   ]
  },
  {
   "cell_type": "code",
   "execution_count": 37,
   "metadata": {},
   "outputs": [
    {
     "name": "stdout",
     "output_type": "stream",
     "text": [
      "['/home/fxr/Documents/cursos/learn-python/modules/numpy.ipynb', '/home/fxr/Documents/cursos/learn-python/modules/pandas', '/home/fxr/Documents/cursos/learn-python/modules/os.ipynb', '/home/fxr/Documents/cursos/learn-python/modules/datetime.ipynb', '/home/fxr/Documents/cursos/learn-python/modules/pytz.ipynb']\n"
     ]
    }
   ],
   "source": [
    "files_paths = [os.path.join(CURRENT_DIR, item) for item in os.listdir(CURRENT_DIR)]\n",
    "\n",
    "print(files_paths)"
   ]
  },
  {
   "cell_type": "markdown",
   "metadata": {},
   "source": [
    "### `os.path.exists()`: Check whether the specified path exists or not"
   ]
  },
  {
   "cell_type": "code",
   "execution_count": 42,
   "metadata": {},
   "outputs": [
    {
     "name": "stdout",
     "output_type": "stream",
     "text": [
      "True\n"
     ]
    }
   ],
   "source": [
    "DATA_DIR = os.path.abspath(os.path.join(CURRENT_DIR, os.pardir, \"data/\"))\n",
    "\n",
    "print(os.path.exists(DATA_DIR))"
   ]
  },
  {
   "cell_type": "markdown",
   "metadata": {},
   "source": [
    "### `os.path.isdir()`: Check whether the specified path is an existing directory or not"
   ]
  },
  {
   "cell_type": "code",
   "execution_count": 43,
   "metadata": {},
   "outputs": [
    {
     "name": "stdout",
     "output_type": "stream",
     "text": [
      "True\n"
     ]
    }
   ],
   "source": [
    "print(os.path.isdir(DATA_DIR))"
   ]
  },
  {
   "cell_type": "markdown",
   "metadata": {},
   "source": [
    "### `os.chdir()`: Change directory"
   ]
  },
  {
   "cell_type": "code",
   "execution_count": 19,
   "metadata": {},
   "outputs": [
    {
     "data": {
      "text/plain": [
       "'/home'"
      ]
     },
     "execution_count": 19,
     "metadata": {},
     "output_type": "execute_result"
    }
   ],
   "source": [
    "os.chdir(\"/home/\")\n",
    "os.getcwd()"
   ]
  },
  {
   "cell_type": "markdown",
   "metadata": {},
   "source": [
    "### `os.mkdir()`: Create a directory"
   ]
  },
  {
   "cell_type": "code",
   "execution_count": null,
   "metadata": {},
   "outputs": [],
   "source": [
    "os.mkdir(os.path.join(DATA_DIR, \"test.txt\"))"
   ]
  }
 ],
 "metadata": {
  "interpreter": {
   "hash": "e914f02840327f40e26e6a4228510eb118f3c7f4b5ce99237f464ffa87273efa"
  },
  "kernelspec": {
   "display_name": "Python 3.8.10 64-bit ('env_learn-python': venv)",
   "language": "python",
   "name": "python3"
  },
  "language_info": {
   "codemirror_mode": {
    "name": "ipython",
    "version": 3
   },
   "file_extension": ".py",
   "mimetype": "text/x-python",
   "name": "python",
   "nbconvert_exporter": "python",
   "pygments_lexer": "ipython3",
   "version": "3.8.10"
  },
  "orig_nbformat": 4
 },
 "nbformat": 4,
 "nbformat_minor": 2
}
