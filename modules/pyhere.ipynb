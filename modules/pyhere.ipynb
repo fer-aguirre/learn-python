{
 "cells": [
  {
   "cell_type": "markdown",
   "metadata": {},
   "source": [
    "### Add a root to the project with [pyhere](https://wildland-creative.github.io/pyhere/)"
   ]
  },
  {
   "cell_type": "code",
   "execution_count": 3,
   "metadata": {},
   "outputs": [],
   "source": [
    "# !pip install pyhere\n",
    "import pyhere"
   ]
  },
  {
   "cell_type": "markdown",
   "metadata": {},
   "source": [
    "### `py.here()`: Specify paths relative to the root"
   ]
  },
  {
   "cell_type": "code",
   "execution_count": 6,
   "metadata": {},
   "outputs": [
    {
     "name": "stdout",
     "output_type": "stream",
     "text": [
      "/home/fxr/Documents/cursos/learn-python/modules/../data\n"
     ]
    }
   ],
   "source": [
    "DATA_DIR = pyhere.here(\"data\")\n",
    "\n",
    "print(DATA_DIR)"
   ]
  },
  {
   "cell_type": "markdown",
   "metadata": {},
   "source": [
    "### Create custom shortcuts"
   ]
  },
  {
   "cell_type": "code",
   "execution_count": 22,
   "metadata": {},
   "outputs": [],
   "source": [
    "# Nested function.\n",
    "def make_dir_function(dir_name):\n",
    "    def dir_function(*args):\n",
    "        if isinstance(dir_name, str):\n",
    "            return pyhere.here().joinpath(dir_name, *args)\n",
    "        else:\n",
    "            return pyhere.here().joinpath(*dir_name, *args)\n",
    "    return dir_function\n",
    "\n",
    "# Lambda function\n",
    "make_dir_function_lambda = lambda dir_name: lambda *args: pyhere.here().joinpath(dir_name, *args)"
   ]
  },
  {
   "cell_type": "code",
   "execution_count": 16,
   "metadata": {},
   "outputs": [
    {
     "name": "stdout",
     "output_type": "stream",
     "text": [
      "/home/fxr/Documents/cursos/learn-python/modules/../data/data.txt\n"
     ]
    }
   ],
   "source": [
    "data_dir = make_dir_function(\"data\")\n",
    "data_example = data_dir(\"data.txt\")\n",
    "print(data_example)"
   ]
  },
  {
   "cell_type": "code",
   "execution_count": 23,
   "metadata": {},
   "outputs": [
    {
     "name": "stdout",
     "output_type": "stream",
     "text": [
      "/home/fxr/Documents/cursos/learn-python/modules/../data/data.txt\n"
     ]
    }
   ],
   "source": [
    "data_dir = make_dir_function_lambda(\"data\")\n",
    "data_example = data_dir(\"data.txt\")\n",
    "print(data_example)"
   ]
  }
 ],
 "metadata": {
  "interpreter": {
   "hash": "e914f02840327f40e26e6a4228510eb118f3c7f4b5ce99237f464ffa87273efa"
  },
  "kernelspec": {
   "display_name": "Python 3.8.10 64-bit ('env_learn-python': venv)",
   "language": "python",
   "name": "python3"
  },
  "language_info": {
   "codemirror_mode": {
    "name": "ipython",
    "version": 3
   },
   "file_extension": ".py",
   "mimetype": "text/x-python",
   "name": "python",
   "nbconvert_exporter": "python",
   "pygments_lexer": "ipython3",
   "version": "3.8.10"
  },
  "orig_nbformat": 4
 },
 "nbformat": 4,
 "nbformat_minor": 2
}
