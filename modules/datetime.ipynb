{
 "cells": [
  {
   "cell_type": "code",
   "execution_count": 10,
   "metadata": {},
   "outputs": [],
   "source": [
    "from datetime import datetime, timezone"
   ]
  },
  {
   "cell_type": "markdown",
   "metadata": {},
   "source": [
    "`now()` returns datetime object containing current date and time of the system and `utcnow()` the universal timezone"
   ]
  },
  {
   "cell_type": "code",
   "execution_count": 11,
   "metadata": {},
   "outputs": [
    {
     "name": "stdout",
     "output_type": "stream",
     "text": [
      "2021-12-22 12:58:25.445387\n",
      "2021-12-22 18:58:25.446189\n",
      "2021-12-22 18:58:25.446340+00:00\n"
     ]
    }
   ],
   "source": [
    "my_time = datetime.now()\n",
    "print(my_time)\n",
    "\n",
    "my_time = datetime.utcnow()\n",
    "print(my_time)\n",
    "\n",
    "my_time = datetime.now(timezone.utc)\n",
    "print(my_time)"
   ]
  },
  {
   "cell_type": "markdown",
   "metadata": {},
   "source": [
    "`datetime.date.today()` only returns the date"
   ]
  },
  {
   "cell_type": "code",
   "execution_count": 8,
   "metadata": {},
   "outputs": [
    {
     "name": "stdout",
     "output_type": "stream",
     "text": [
      "2021-12-22\n",
      "Year: 2021\n",
      "Month: 12\n",
      "Day: 22\n"
     ]
    }
   ],
   "source": [
    "# import datetime\n",
    "\n",
    "my_day = datetime.date.today()\n",
    "print(my_day)\n",
    "\n",
    "print(f\"Year: {my_day.year}\")\n",
    "print(f\"Month: {my_day.month}\")\n",
    "print(f\"Day: {my_day.day}\")"
   ]
  },
  {
   "cell_type": "markdown",
   "metadata": {},
   "source": [
    "`strftime()` method takes one or more format codes as an argument and returns a formatted string"
   ]
  },
  {
   "cell_type": "code",
   "execution_count": 12,
   "metadata": {},
   "outputs": [
    {
     "name": "stdout",
     "output_type": "stream",
     "text": [
      "2021-12-22 12:58:30.052476\n",
      "Formato LATAM: 22/12/2021\n",
      "Formato USA: 12/22/2021\n",
      "The current year is 2021\n"
     ]
    }
   ],
   "source": [
    "my_datetime = datetime.now()\n",
    "print(my_datetime)\n",
    "\n",
    "latam = my_datetime.strftime('%d/%m/%Y')\n",
    "print(f\"Formato LATAM: {latam}\")\n",
    "\n",
    "usa = my_datetime.strftime('%m/%d/%Y')\n",
    "print(f\"Formato USA: {usa}\")\n",
    "\n",
    "random = my_datetime.strftime('The current year is %Y')\n",
    "print(random)"
   ]
  },
  {
   "cell_type": "markdown",
   "metadata": {},
   "source": [
    "Day formats:\n",
    "- `%d`: day number\n",
    "- `%a`: short version\n",
    "- `%A`: full version\n",
    "- `%w`: weekday as a number"
   ]
  },
  {
   "cell_type": "code",
   "execution_count": 16,
   "metadata": {},
   "outputs": [
    {
     "name": "stdout",
     "output_type": "stream",
     "text": [
      "Day formats:\n",
      "- 22\n",
      "- Wednesday\n",
      "- Wed\n",
      "- 3\n"
     ]
    }
   ],
   "source": [
    "my_datetime = datetime.now()\n",
    "\n",
    "number = my_datetime.strftime('%d')\n",
    "full = my_datetime.strftime('%A')\n",
    "short = my_datetime.strftime('%a')\n",
    "weekday = my_datetime.strftime('%w')\n",
    "print(f'Day formats:\\n- {number}\\n- {full}\\n- {short}\\n- {weekday}')"
   ]
  },
  {
   "cell_type": "markdown",
   "metadata": {},
   "source": [
    "Month formats:\n",
    "- `%m`: month number\n",
    "- `%b`: short version\n",
    "- `%B`: full version"
   ]
  },
  {
   "cell_type": "code",
   "execution_count": 17,
   "metadata": {},
   "outputs": [
    {
     "name": "stdout",
     "output_type": "stream",
     "text": [
      "Month formats:\n",
      "- 12\n",
      "- December\n",
      "- Dec\n"
     ]
    }
   ],
   "source": [
    "my_datetime = datetime.now()\n",
    "\n",
    "number = my_datetime.strftime('%m')\n",
    "short = my_datetime.strftime('%b')\n",
    "full = my_datetime.strftime('%B')\n",
    "print(f'Month formats:\\n- {number}\\n- {full}\\n- {short}')"
   ]
  },
  {
   "cell_type": "markdown",
   "metadata": {},
   "source": [
    "Year formats:\n",
    "- `%y`: short version\n",
    "- `%Y`: full version"
   ]
  },
  {
   "cell_type": "code",
   "execution_count": 18,
   "metadata": {},
   "outputs": [
    {
     "name": "stdout",
     "output_type": "stream",
     "text": [
      "Year formats:\n",
      "- 2021\n",
      "- 21\n"
     ]
    }
   ],
   "source": [
    "my_datetime = datetime.now()\n",
    "\n",
    "full = my_datetime.strftime('%Y')\n",
    "short = my_datetime.strftime('%y')\n",
    "print(f'Year formats:\\n- {full}\\n- {short}')"
   ]
  },
  {
   "cell_type": "markdown",
   "metadata": {},
   "source": [
    "Hour formats:\n",
    "- `%I`: 00-12\n",
    "- `%H`: 00-23\n",
    "\n",
    "Minute format:\n",
    "- `%M`: 00-59\n",
    "\n",
    "Second formats:\n",
    "- `%S`: 00-59\n",
    "- `%f`: Microsecond\n",
    "\n",
    "Meridian:\n",
    "- `%p`: AM/PM"
   ]
  },
  {
   "cell_type": "code",
   "execution_count": 19,
   "metadata": {},
   "outputs": [
    {
     "name": "stdout",
     "output_type": "stream",
     "text": [
      "Hour formats:\n",
      "- 07\n",
      "- 19\n",
      "\n",
      "Minute format:\n",
      "- 00\n",
      "\n",
      "Second formats:\n",
      "- 51\n",
      "- 727416\n",
      "\n",
      "Meridian format:\n",
      "- PM\n"
     ]
    }
   ],
   "source": [
    "my_datetime = datetime.utcnow()\n",
    "\n",
    "short = my_datetime.strftime('%I')\n",
    "full = my_datetime.strftime('%H')\n",
    "print(f'Hour formats:\\n- {short}\\n- {full}\\n')\n",
    "\n",
    "minute = my_datetime.strftime('%M')\n",
    "print(f'Minute format:\\n- {minute}\\n')\n",
    "\n",
    "second = my_datetime.strftime('%S')\n",
    "microsecond = my_datetime.strftime('%f')\n",
    "print(f'Second formats:\\n- {second}\\n- {microsecond}\\n')\n",
    "\n",
    "meridian = my_datetime.strftime('%p')\n",
    "print(f'Meridian format:\\n- {meridian}')"
   ]
  }
 ],
 "metadata": {
  "interpreter": {
   "hash": "e914f02840327f40e26e6a4228510eb118f3c7f4b5ce99237f464ffa87273efa"
  },
  "kernelspec": {
   "display_name": "Python 3.8.10 64-bit ('env_learn-python': venv)",
   "language": "python",
   "name": "python3"
  },
  "language_info": {
   "codemirror_mode": {
    "name": "ipython",
    "version": 3
   },
   "file_extension": ".py",
   "mimetype": "text/x-python",
   "name": "python",
   "nbconvert_exporter": "python",
   "pygments_lexer": "ipython3",
   "version": "3.8.10"
  },
  "orig_nbformat": 4
 },
 "nbformat": 4,
 "nbformat_minor": 2
}
