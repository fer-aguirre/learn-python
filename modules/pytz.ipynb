{
 "cells": [
  {
   "cell_type": "code",
   "execution_count": 8,
   "metadata": {},
   "outputs": [],
   "source": [
    "from datetime import datetime\n",
    "import pytz"
   ]
  },
  {
   "cell_type": "markdown",
   "metadata": {},
   "source": [
    "[List of timezones](https://en.wikipedia.org/wiki/List_of_tz_database_time_zones)"
   ]
  },
  {
   "cell_type": "code",
   "execution_count": 15,
   "metadata": {},
   "outputs": [
    {
     "name": "stdout",
     "output_type": "stream",
     "text": [
      "Bogotá:  22/12/2021, 14:12\n",
      "Ciudad de México:  22/12/2021, 13:12\n",
      "Buenos Aires:  22/12/2021, 16:12\n",
      "Moscow:  22/12/2021, 22:12\n"
     ]
    }
   ],
   "source": [
    "# Bogota\n",
    "bogota_tz = pytz.timezone('America/Bogota')\n",
    "bogota_date = datetime.now(bogota_tz)\n",
    "print(\"Bogotá: \", bogota_date.strftime('%d/%m/%Y, %H:%m'))\n",
    "\n",
    "# Mexico City\n",
    "mexico_tz = pytz.timezone('America/Mexico_City')\n",
    "mexico_date = datetime.now(mexico_tz)\n",
    "print(\"Ciudad de México: \", mexico_date.strftime('%d/%m/%Y, %H:%m'))\n",
    "\n",
    "# Buenos Aires\n",
    "ba_tz = pytz.timezone('America/Buenos_Aires')\n",
    "ba_date = datetime.now(ba_tz)\n",
    "print(\"Buenos Aires: \", ba_date.strftime('%d/%m/%Y, %H:%m'))\n",
    "\n",
    "# Moscow\n",
    "moscow_tz = pytz.timezone('Europe/Moscow')\n",
    "moscow_date = datetime.now(moscow_tz)\n",
    "print(\"Moscow: \", moscow_date.strftime('%d/%m/%Y, %H:%m'))"
   ]
  }
 ],
 "metadata": {
  "interpreter": {
   "hash": "e914f02840327f40e26e6a4228510eb118f3c7f4b5ce99237f464ffa87273efa"
  },
  "kernelspec": {
   "display_name": "Python 3.8.10 64-bit ('env_learn-python': venv)",
   "language": "python",
   "name": "python3"
  },
  "language_info": {
   "codemirror_mode": {
    "name": "ipython",
    "version": 3
   },
   "file_extension": ".py",
   "mimetype": "text/x-python",
   "name": "python",
   "nbconvert_exporter": "python",
   "pygments_lexer": "ipython3",
   "version": "3.8.10"
  },
  "orig_nbformat": 4
 },
 "nbformat": 4,
 "nbformat_minor": 2
}
