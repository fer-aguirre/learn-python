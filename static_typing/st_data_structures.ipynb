{
 "cells": [
  {
   "cell_type": "markdown",
   "metadata": {},
   "source": [
    "# Static Typing with Data Structures"
   ]
  },
  {
   "cell_type": "markdown",
   "metadata": {},
   "source": [
    "Imports"
   ]
  },
  {
   "cell_type": "code",
   "execution_count": 13,
   "metadata": {},
   "outputs": [],
   "source": [
    "from typing import Dict, List, Tuple"
   ]
  },
  {
   "cell_type": "markdown",
   "metadata": {},
   "source": [
    "Assign data structure as list and `int` as the type of data\n",
    "\n",
    "*List[type of data]*\n"
   ]
  },
  {
   "cell_type": "code",
   "execution_count": 3,
   "metadata": {},
   "outputs": [],
   "source": [
    "positives: List[int] = [1, 2, 3, 4, 5]"
   ]
  },
  {
   "cell_type": "markdown",
   "metadata": {},
   "source": [
    "Assign data structure as dictionary and `str` as key and `int` as value\n",
    "\n",
    "*Dict[type of key, type of value]*"
   ]
  },
  {
   "cell_type": "code",
   "execution_count": 5,
   "metadata": {},
   "outputs": [],
   "source": [
    "countries: Dict[str, int] = {\n",
    "    'argentina': 20,\n",
    "    'mexico': 34,\n",
    "    'colombia': 45,\n",
    "}"
   ]
  },
  {
   "cell_type": "markdown",
   "metadata": {},
   "source": [
    "List of dictionaries with keys as `str` and values as `str`"
   ]
  },
  {
   "cell_type": "code",
   "execution_count": 6,
   "metadata": {},
   "outputs": [],
   "source": [
    "countries: List[Dict[str, str]] = [\n",
    "    {\n",
    "        'name': 'Argentina',\n",
    "        'people': '12000',\n",
    "    },\n",
    "    {\n",
    "        'name': 'México',\n",
    "        'people': '25000',\n",
    "    },\n",
    "    {\n",
    "        'name': 'Colombia',\n",
    "        'people': '34100',\n",
    "    },\n",
    "]"
   ]
  },
  {
   "cell_type": "markdown",
   "metadata": {},
   "source": [
    "Assign data structure as tuple (immutable) and `int`, `float`, `int` as type of data\n",
    "\n",
    "*Tuple[type of data]*"
   ]
  },
  {
   "cell_type": "code",
   "execution_count": 8,
   "metadata": {},
   "outputs": [],
   "source": [
    "numbers: Tuple[int, float, int] = (1, 0.5, 1)"
   ]
  },
  {
   "cell_type": "markdown",
   "metadata": {},
   "source": [
    "List of dictionaries with keys as `str` and values as tuple with two items as `int`"
   ]
  },
  {
   "cell_type": "code",
   "execution_count": 9,
   "metadata": {},
   "outputs": [],
   "source": [
    "CoordinatesType = List[Dict[str, Tuple[int, int]]]\n",
    "\n",
    "coordinates: CoordinatesType = [\n",
    "    {\n",
    "        'coord1': (1, 2),\n",
    "        'coord2': (3, 5),\n",
    "    },\n",
    "    {\n",
    "        'coord1': (0, 1),\n",
    "        'coord2': (2, 5)\n",
    "    },\n",
    "]"
   ]
  }
 ],
 "metadata": {
  "interpreter": {
   "hash": "e914f02840327f40e26e6a4228510eb118f3c7f4b5ce99237f464ffa87273efa"
  },
  "kernelspec": {
   "display_name": "Python 3.8.10 64-bit ('env_learn-python': venv)",
   "language": "python",
   "name": "python3"
  },
  "language_info": {
   "codemirror_mode": {
    "name": "ipython",
    "version": 3
   },
   "file_extension": ".py",
   "mimetype": "text/x-python",
   "name": "python",
   "nbconvert_exporter": "python",
   "pygments_lexer": "ipython3",
   "version": "3.8.10"
  },
  "orig_nbformat": 4
 },
 "nbformat": 4,
 "nbformat_minor": 2
}
