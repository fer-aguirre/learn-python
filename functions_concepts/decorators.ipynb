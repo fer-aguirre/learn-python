{
 "cells": [
  {
   "cell_type": "markdown",
   "metadata": {},
   "source": [
    "# Decorators: add functionalities to existing functions"
   ]
  },
  {
   "cell_type": "markdown",
   "metadata": {},
   "source": [
    "Decorators are closures"
   ]
  },
  {
   "cell_type": "code",
   "execution_count": 8,
   "metadata": {},
   "outputs": [
    {
     "name": "stdout",
     "output_type": "stream",
     "text": [
      "Esto añade a mi función original\n",
      "Hola\n"
     ]
    }
   ],
   "source": [
    "def decorator(func):\n",
    "    def envoltura():\n",
    "        print('Esto añade a mi función original')\n",
    "        func()\n",
    "    return envoltura\n",
    "\n",
    "\n",
    "def saludo():\n",
    "    print('Hola')\n",
    "\n",
    "saludo = decorator(saludo)\n",
    "saludo()"
   ]
  },
  {
   "cell_type": "markdown",
   "metadata": {},
   "source": [
    "**Syntatic sugar** makes it easier to read\n",
    "\n",
    "`@decorator`\n",
    "    "
   ]
  },
  {
   "cell_type": "code",
   "execution_count": 9,
   "metadata": {},
   "outputs": [
    {
     "name": "stdout",
     "output_type": "stream",
     "text": [
      "Esto añade a mi función original\n",
      "Hola\n"
     ]
    }
   ],
   "source": [
    "def decorador(func):\n",
    "    def envoltura():\n",
    "        print('Esto añade a mi función original')\n",
    "        func()\n",
    "    return envoltura\n",
    "\n",
    "\n",
    "@decorador\n",
    "def saludo():\n",
    "    print('Hola')\n",
    "\n",
    "saludo()"
   ]
  },
  {
   "cell_type": "markdown",
   "metadata": {},
   "source": [
    "Decorator to convert a function in upper case"
   ]
  },
  {
   "cell_type": "code",
   "execution_count": 1,
   "metadata": {},
   "outputs": [
    {
     "name": "stdout",
     "output_type": "stream",
     "text": [
      "FER, RECIBISTE UN MENSAJE\n"
     ]
    }
   ],
   "source": [
    "def mayusculas(func):\n",
    "    def envoltura(texto):\n",
    "        return func(texto).upper()\n",
    "    return envoltura\n",
    "\n",
    "@mayusculas\n",
    "def mensaje(nombre):\n",
    "    return f'{nombre}, recibiste un mensaje'\n",
    "print(mensaje('Fer'))"
   ]
  }
 ],
 "metadata": {
  "interpreter": {
   "hash": "e914f02840327f40e26e6a4228510eb118f3c7f4b5ce99237f464ffa87273efa"
  },
  "kernelspec": {
   "display_name": "Python 3.8.10 64-bit ('env_learn-python': venv)",
   "language": "python",
   "name": "python3"
  },
  "language_info": {
   "codemirror_mode": {
    "name": "ipython",
    "version": 3
   },
   "file_extension": ".py",
   "mimetype": "text/x-python",
   "name": "python",
   "nbconvert_exporter": "python",
   "pygments_lexer": "ipython3",
   "version": "3.8.10"
  },
  "orig_nbformat": 4
 },
 "nbformat": 4,
 "nbformat_minor": 2
}
