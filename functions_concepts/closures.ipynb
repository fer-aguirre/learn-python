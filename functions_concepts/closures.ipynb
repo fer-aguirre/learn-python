{
 "cells": [
  {
   "cell_type": "markdown",
   "metadata": {},
   "source": [
    "# Clousures in Python: a nested function"
   ]
  },
  {
   "cell_type": "markdown",
   "metadata": {},
   "source": [
    "Function with an inner function to return a string n times"
   ]
  },
  {
   "cell_type": "code",
   "execution_count": 2,
   "metadata": {},
   "outputs": [
    {
     "name": "stdout",
     "output_type": "stream",
     "text": [
      "Hola\n",
      "Hola\n",
      "Hola\n",
      "Hola\n",
      "Hola\n",
      "\n"
     ]
    }
   ],
   "source": [
    "def make_repeater_of(n):\n",
    "    def repeater(string):\n",
    "        assert type(string) == str, \"Sólo puedes ingresar texto\"\n",
    "        return (string + \"\\n\") * n\n",
    "    return repeater\n",
    "\n",
    "repeat_5 = make_repeater_of(5)\n",
    "print(repeat_5(\"Hola\"))"
   ]
  },
  {
   "cell_type": "markdown",
   "metadata": {},
   "source": [
    "Function with an inner function to return the division of an integer number by another integer number"
   ]
  },
  {
   "cell_type": "code",
   "execution_count": 37,
   "metadata": {},
   "outputs": [
    {
     "name": "stdout",
     "output_type": "stream",
     "text": [
      "4.0\n"
     ]
    }
   ],
   "source": [
    "def make_division_by(n):\n",
    "    def numerator(x):\n",
    "        assert type(x) == int, \"Sólo puedes ingresar números\"\n",
    "        assert n != 0, \"No puedes dividir 0\"\n",
    "        return x / n\n",
    "    assert type(n) == int, \"Sólo puedes ingresar números\"\n",
    "    assert n != 0, \"No puedes dividir entre 0\"\n",
    "    return numerator\n",
    "\n",
    "\n",
    "division_by_4 = make_division_by(4)\n",
    "print(division_by_4(16))"
   ]
  },
  {
   "cell_type": "markdown",
   "metadata": {},
   "source": [
    "Previous example with static typing"
   ]
  },
  {
   "cell_type": "code",
   "execution_count": 35,
   "metadata": {},
   "outputs": [
    {
     "name": "stdout",
     "output_type": "stream",
     "text": [
      "5.5\n"
     ]
    }
   ],
   "source": [
    "def make_division_by(n: int):\n",
    "    def numerator(x: int) -> float:\n",
    "        assert type(x) == int, \"Sólo puedes ingresar números enteros\"\n",
    "        assert n != 0, \"No puedes dividir 0\"\n",
    "        return x / n\n",
    "    assert type(n) == int, \"Sólo puedes ingresar números enteros\"\n",
    "    assert n != 0, \"No puedes dividir entre 0\"\n",
    "    return numerator\n",
    "\n",
    "\n",
    "division_by_4 = make_division_by(4)\n",
    "print(division_by_4(22))"
   ]
  }
 ],
 "metadata": {
  "interpreter": {
   "hash": "e914f02840327f40e26e6a4228510eb118f3c7f4b5ce99237f464ffa87273efa"
  },
  "kernelspec": {
   "display_name": "Python 3.8.10 64-bit ('env_learn-python': venv)",
   "language": "python",
   "name": "python3"
  },
  "language_info": {
   "codemirror_mode": {
    "name": "ipython",
    "version": 3
   },
   "file_extension": ".py",
   "mimetype": "text/x-python",
   "name": "python",
   "nbconvert_exporter": "python",
   "pygments_lexer": "ipython3",
   "version": "3.8.10"
  },
  "orig_nbformat": 4
 },
 "nbformat": 4,
 "nbformat_minor": 2
}
